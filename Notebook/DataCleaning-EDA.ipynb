{
 "cells": [
  {
   "cell_type": "markdown",
   "id": "884dc4cd",
   "metadata": {},
   "source": [
    "# SENDA CAFÉ"
   ]
  },
  {
   "cell_type": "markdown",
   "id": "93e6a6a6",
   "metadata": {},
   "source": [
    "SENDA CAFÉ es un proyecto de ventas simuladas en un local de venta de café, tanto para consumir en el lugar o take away.\n",
    "\n",
    "En este proyecto, lo que haremos en primer lugar es el Data Cleaning y luego el EDA, para explorar los datos que tenemos para saber de que tipos son , si hay errores en los en los mismos, cantidad, si hay datos vacíos. Tambien si es necesario de crear nuevas tablas o columnas y así poder obtener los primeros graficos utilizando librerias de Python como Seaborn y Matplotlib.\n",
    "\n",
    "El objetivo es poder saber la cantidad de ventas en determinados periodos, en que momentos del día se realizan mas ventas. Tambien saber cuales son los empleados que mas ticket emiten por dias, horarios, etc. Saber los costos mensuales, ver cuales de ellos es el mas alto, ya sean costos fijos y/o variables. Detectar cuales son los productos que mas costos tienen o producen. Además analizar el stcok de los productos e insumos y compararlos tambien con los costos y las ventas, para entender qué productos son mas vendidos o si tienen mejor margen de ganacias.\n"
   ]
  },
  {
   "cell_type": "markdown",
   "id": "b750a096",
   "metadata": {},
   "source": [
    "# _______________________________________________________________________________"
   ]
  },
  {
   "cell_type": "code",
   "execution_count": 12,
   "id": "124eabc2",
   "metadata": {},
   "outputs": [],
   "source": [
    "import pandas as pd\n",
    "import numpy as np\n",
    "import matplotlib.pyplot as plt\n",
    "import seaborn as sns\n"
   ]
  },
  {
   "cell_type": "markdown",
   "id": "c8068410",
   "metadata": {},
   "source": [
    "## Exploramos la tabla 'empleados'\n"
   ]
  },
  {
   "cell_type": "markdown",
   "id": "9af0be77",
   "metadata": {},
   "source": [
    "Proceso de Data Cleaning & EDA"
   ]
  },
  {
   "cell_type": "code",
   "execution_count": null,
   "id": "d66f502a",
   "metadata": {},
   "outputs": [
    {
     "name": "stdout",
     "output_type": "stream",
     "text": [
      "Informe: \n",
      "\n",
      "<class 'pandas.core.frame.DataFrame'>\n",
      "RangeIndex: 11 entries, 0 to 10\n",
      "Data columns (total 5 columns):\n",
      " #   Column          Non-Null Count  Dtype \n",
      "---  ------          --------------  ----- \n",
      " 0   empleado_id     11 non-null     int64 \n",
      " 1   nombre          11 non-null     object\n",
      " 2   rol             11 non-null     object\n",
      " 3   turno           11 non-null     object\n",
      " 4   sueldo_mensual  11 non-null     int64 \n",
      "dtypes: int64(2), object(3)\n",
      "memory usage: 572.0+ bytes\n",
      "Cantidad de filas y columnas:  (11, 5)\n"
     ]
    },
    {
     "data": {
      "application/vnd.microsoft.datawrangler.viewer.v0+json": {
       "columns": [
        {
         "name": "index",
         "rawType": "int64",
         "type": "integer"
        },
        {
         "name": "empleado_id",
         "rawType": "int64",
         "type": "integer"
        },
        {
         "name": "nombre",
         "rawType": "object",
         "type": "string"
        },
        {
         "name": "rol",
         "rawType": "object",
         "type": "string"
        },
        {
         "name": "turno",
         "rawType": "object",
         "type": "string"
        },
        {
         "name": "sueldo_mensual",
         "rawType": "int64",
         "type": "integer"
        }
       ],
       "ref": "564237bf-12fe-449a-98cd-817480a7d175",
       "rows": [
        [
         "0",
         "1",
         "Empleado_1",
         "Cocinero",
         "mañana",
         "450000"
        ],
        [
         "1",
         "2",
         "Empleado_2",
         "Cajero",
         "tarde",
         "400000"
        ],
        [
         "2",
         "3",
         "Empleado_3",
         "Barista",
         "mañana",
         "420000"
        ],
        [
         "3",
         "4",
         "Empleado_4",
         "Camarero",
         "tarde",
         "380000"
        ],
        [
         "4",
         "5",
         "Empleado_5",
         "Camarero",
         "mañana",
         "380000"
        ],
        [
         "5",
         "6",
         "Empleado_6",
         "Camarero",
         "tarde",
         "380000"
        ],
        [
         "6",
         "7",
         "Empleado_7",
         "Camarero",
         "mañana",
         "380000"
        ],
        [
         "7",
         "8",
         "Empleado_8",
         "Camarero",
         "tarde",
         "380000"
        ],
        [
         "8",
         "9",
         "Empleado_9",
         "Camarero",
         "mañana",
         "380000"
        ],
        [
         "9",
         "10",
         "Empleado_10",
         "Camarero",
         "tarde",
         "380000"
        ],
        [
         "10",
         "11",
         "Empleado_11",
         "Camarero",
         "mañana",
         "380000"
        ]
       ],
       "shape": {
        "columns": 5,
        "rows": 11
       }
      },
      "text/html": [
       "<div>\n",
       "<style scoped>\n",
       "    .dataframe tbody tr th:only-of-type {\n",
       "        vertical-align: middle;\n",
       "    }\n",
       "\n",
       "    .dataframe tbody tr th {\n",
       "        vertical-align: top;\n",
       "    }\n",
       "\n",
       "    .dataframe thead th {\n",
       "        text-align: right;\n",
       "    }\n",
       "</style>\n",
       "<table border=\"1\" class=\"dataframe\">\n",
       "  <thead>\n",
       "    <tr style=\"text-align: right;\">\n",
       "      <th></th>\n",
       "      <th>empleado_id</th>\n",
       "      <th>nombre</th>\n",
       "      <th>rol</th>\n",
       "      <th>turno</th>\n",
       "      <th>sueldo_mensual</th>\n",
       "    </tr>\n",
       "  </thead>\n",
       "  <tbody>\n",
       "    <tr>\n",
       "      <th>0</th>\n",
       "      <td>1</td>\n",
       "      <td>Empleado_1</td>\n",
       "      <td>Cocinero</td>\n",
       "      <td>mañana</td>\n",
       "      <td>450000</td>\n",
       "    </tr>\n",
       "    <tr>\n",
       "      <th>1</th>\n",
       "      <td>2</td>\n",
       "      <td>Empleado_2</td>\n",
       "      <td>Cajero</td>\n",
       "      <td>tarde</td>\n",
       "      <td>400000</td>\n",
       "    </tr>\n",
       "    <tr>\n",
       "      <th>2</th>\n",
       "      <td>3</td>\n",
       "      <td>Empleado_3</td>\n",
       "      <td>Barista</td>\n",
       "      <td>mañana</td>\n",
       "      <td>420000</td>\n",
       "    </tr>\n",
       "    <tr>\n",
       "      <th>3</th>\n",
       "      <td>4</td>\n",
       "      <td>Empleado_4</td>\n",
       "      <td>Camarero</td>\n",
       "      <td>tarde</td>\n",
       "      <td>380000</td>\n",
       "    </tr>\n",
       "    <tr>\n",
       "      <th>4</th>\n",
       "      <td>5</td>\n",
       "      <td>Empleado_5</td>\n",
       "      <td>Camarero</td>\n",
       "      <td>mañana</td>\n",
       "      <td>380000</td>\n",
       "    </tr>\n",
       "    <tr>\n",
       "      <th>5</th>\n",
       "      <td>6</td>\n",
       "      <td>Empleado_6</td>\n",
       "      <td>Camarero</td>\n",
       "      <td>tarde</td>\n",
       "      <td>380000</td>\n",
       "    </tr>\n",
       "    <tr>\n",
       "      <th>6</th>\n",
       "      <td>7</td>\n",
       "      <td>Empleado_7</td>\n",
       "      <td>Camarero</td>\n",
       "      <td>mañana</td>\n",
       "      <td>380000</td>\n",
       "    </tr>\n",
       "    <tr>\n",
       "      <th>7</th>\n",
       "      <td>8</td>\n",
       "      <td>Empleado_8</td>\n",
       "      <td>Camarero</td>\n",
       "      <td>tarde</td>\n",
       "      <td>380000</td>\n",
       "    </tr>\n",
       "    <tr>\n",
       "      <th>8</th>\n",
       "      <td>9</td>\n",
       "      <td>Empleado_9</td>\n",
       "      <td>Camarero</td>\n",
       "      <td>mañana</td>\n",
       "      <td>380000</td>\n",
       "    </tr>\n",
       "    <tr>\n",
       "      <th>9</th>\n",
       "      <td>10</td>\n",
       "      <td>Empleado_10</td>\n",
       "      <td>Camarero</td>\n",
       "      <td>tarde</td>\n",
       "      <td>380000</td>\n",
       "    </tr>\n",
       "    <tr>\n",
       "      <th>10</th>\n",
       "      <td>11</td>\n",
       "      <td>Empleado_11</td>\n",
       "      <td>Camarero</td>\n",
       "      <td>mañana</td>\n",
       "      <td>380000</td>\n",
       "    </tr>\n",
       "  </tbody>\n",
       "</table>\n",
       "</div>"
      ],
      "text/plain": [
       "    empleado_id       nombre       rol   turno  sueldo_mensual\n",
       "0             1   Empleado_1  Cocinero  mañana          450000\n",
       "1             2   Empleado_2    Cajero   tarde          400000\n",
       "2             3   Empleado_3   Barista  mañana          420000\n",
       "3             4   Empleado_4  Camarero   tarde          380000\n",
       "4             5   Empleado_5  Camarero  mañana          380000\n",
       "5             6   Empleado_6  Camarero   tarde          380000\n",
       "6             7   Empleado_7  Camarero  mañana          380000\n",
       "7             8   Empleado_8  Camarero   tarde          380000\n",
       "8             9   Empleado_9  Camarero  mañana          380000\n",
       "9            10  Empleado_10  Camarero   tarde          380000\n",
       "10           11  Empleado_11  Camarero  mañana          380000"
      ]
     },
     "execution_count": 25,
     "metadata": {},
     "output_type": "execute_result"
    }
   ],
   "source": [
    "## Definimos la ruta del archivo\n",
    "ruta_empleado_csv = r'C:\\Users\\Fernando\\Desktop\\Ventas Café Especialidad\\Data\\empleados.csv'\n",
    "\n",
    "# Leemos el archivo\n",
    "df_empleados = pd.read_csv(ruta_empleado_csv)\n",
    "\n",
    "# Vemos la información\n",
    "print(\"Informe: \\n\")\n",
    "df_empleados.info()\n",
    "\n",
    "print(\"Cantidad de filas y columnas: \", df_empleados.shape)\n",
    "\n",
    "## Mostramos la tabla (los primeros 100)\n",
    "df_empleados.head(100)\n",
    "\n",
    "\n",
    "\n",
    "\n",
    "\n",
    "\n",
    "\n"
   ]
  },
  {
   "cell_type": "code",
   "execution_count": null,
   "id": "f88f7491",
   "metadata": {},
   "outputs": [
    {
     "name": "stdout",
     "output_type": "stream",
     "text": [
      "Métricas y Estadísticas: \n"
     ]
    },
    {
     "data": {
      "application/vnd.microsoft.datawrangler.viewer.v0+json": {
       "columns": [
        {
         "name": "index",
         "rawType": "object",
         "type": "string"
        },
        {
         "name": "empleado_id",
         "rawType": "float64",
         "type": "float"
        },
        {
         "name": "sueldo_mensual",
         "rawType": "float64",
         "type": "float"
        }
       ],
       "ref": "a9ef9ec7-2a3e-46e8-b65f-6f4f389007a2",
       "rows": [
        [
         "count",
         "11.0",
         "11.0"
        ],
        [
         "mean",
         "6.0",
         "391818.1818181818"
        ],
        [
         "std",
         "3.3166247903554",
         "23159.525823376356"
        ],
        [
         "min",
         "1.0",
         "380000.0"
        ],
        [
         "25%",
         "3.5",
         "380000.0"
        ],
        [
         "50%",
         "6.0",
         "380000.0"
        ],
        [
         "75%",
         "8.5",
         "390000.0"
        ],
        [
         "max",
         "11.0",
         "450000.0"
        ]
       ],
       "shape": {
        "columns": 2,
        "rows": 8
       }
      },
      "text/html": [
       "<div>\n",
       "<style scoped>\n",
       "    .dataframe tbody tr th:only-of-type {\n",
       "        vertical-align: middle;\n",
       "    }\n",
       "\n",
       "    .dataframe tbody tr th {\n",
       "        vertical-align: top;\n",
       "    }\n",
       "\n",
       "    .dataframe thead th {\n",
       "        text-align: right;\n",
       "    }\n",
       "</style>\n",
       "<table border=\"1\" class=\"dataframe\">\n",
       "  <thead>\n",
       "    <tr style=\"text-align: right;\">\n",
       "      <th></th>\n",
       "      <th>empleado_id</th>\n",
       "      <th>sueldo_mensual</th>\n",
       "    </tr>\n",
       "  </thead>\n",
       "  <tbody>\n",
       "    <tr>\n",
       "      <th>count</th>\n",
       "      <td>11.000000</td>\n",
       "      <td>11.000000</td>\n",
       "    </tr>\n",
       "    <tr>\n",
       "      <th>mean</th>\n",
       "      <td>6.000000</td>\n",
       "      <td>391818.181818</td>\n",
       "    </tr>\n",
       "    <tr>\n",
       "      <th>std</th>\n",
       "      <td>3.316625</td>\n",
       "      <td>23159.525823</td>\n",
       "    </tr>\n",
       "    <tr>\n",
       "      <th>min</th>\n",
       "      <td>1.000000</td>\n",
       "      <td>380000.000000</td>\n",
       "    </tr>\n",
       "    <tr>\n",
       "      <th>25%</th>\n",
       "      <td>3.500000</td>\n",
       "      <td>380000.000000</td>\n",
       "    </tr>\n",
       "    <tr>\n",
       "      <th>50%</th>\n",
       "      <td>6.000000</td>\n",
       "      <td>380000.000000</td>\n",
       "    </tr>\n",
       "    <tr>\n",
       "      <th>75%</th>\n",
       "      <td>8.500000</td>\n",
       "      <td>390000.000000</td>\n",
       "    </tr>\n",
       "    <tr>\n",
       "      <th>max</th>\n",
       "      <td>11.000000</td>\n",
       "      <td>450000.000000</td>\n",
       "    </tr>\n",
       "  </tbody>\n",
       "</table>\n",
       "</div>"
      ],
      "text/plain": [
       "       empleado_id  sueldo_mensual\n",
       "count    11.000000       11.000000\n",
       "mean      6.000000   391818.181818\n",
       "std       3.316625    23159.525823\n",
       "min       1.000000   380000.000000\n",
       "25%       3.500000   380000.000000\n",
       "50%       6.000000   380000.000000\n",
       "75%       8.500000   390000.000000\n",
       "max      11.000000   450000.000000"
      ]
     },
     "execution_count": 19,
     "metadata": {},
     "output_type": "execute_result"
    }
   ],
   "source": [
    "# Métricas y estadísticas\n",
    "print(\"Métricas y Estadísticas: \")\n",
    "df_empleados.describe()"
   ]
  },
  {
   "cell_type": "markdown",
   "id": "cf8313e1",
   "metadata": {},
   "source": [
    "Hasta aqui...."
   ]
  }
 ],
 "metadata": {
  "kernelspec": {
   "display_name": "Python 3",
   "language": "python",
   "name": "python3"
  },
  "language_info": {
   "codemirror_mode": {
    "name": "ipython",
    "version": 3
   },
   "file_extension": ".py",
   "mimetype": "text/x-python",
   "name": "python",
   "nbconvert_exporter": "python",
   "pygments_lexer": "ipython3",
   "version": "3.13.5"
  }
 },
 "nbformat": 4,
 "nbformat_minor": 5
}
