{
 "cells": [
  {
   "cell_type": "markdown",
   "id": "884dc4cd",
   "metadata": {},
   "source": [
    "# SENDA CAFÉ"
   ]
  },
  {
   "cell_type": "markdown",
   "id": "93e6a6a6",
   "metadata": {},
   "source": [
    "SENDA CAFÉ es un proyecto de ventas simuladas en un local de venta de café, tanto para consumir en el lugar o take away.\n",
    "\n",
    "En este proyecto, lo que haremos en primer lugar es el Data Cleaning y luego el EDA, para explorar los datos que tenemos para saber de que tipos son , si hay errores en los en los mismos, cantidad, si hay datos vacíos. Tambien si es necesario de crear nuevas tablas o columnas y así poder obtener los primeros graficos utilizando librerias de Python como Seaborn y Matplotlib.\n",
    "\n",
    "El objetivo es poder saber la cantidad de ventas en determinados periodos, en que momentos del día se realizan mas ventas. Tambien saber cuales son los empleados que mas ticket emiten por dias, horarios, etc. Saber los costos mensuales, ver cuales de ellos es el mas alto, ya sean costos fijos y/o variables. Detectar cuales son los productos que mas costos tienen o producen. Además analizar el stcok de los productos e insumos y compararlos tambien con los costos y las ventas, para entender qué productos son mas vendidos o si tienen mejor margen de ganacias.\n"
   ]
  },
  {
   "cell_type": "markdown",
   "id": "b750a096",
   "metadata": {},
   "source": [
    "# _______________________________________________________________________________"
   ]
  },
  {
   "cell_type": "markdown",
   "id": "ec72d254",
   "metadata": {},
   "source": [
    "Importacíon de librerías"
   ]
  },
  {
   "cell_type": "code",
   "execution_count": 1,
   "id": "124eabc2",
   "metadata": {},
   "outputs": [
    {
     "name": "stderr",
     "output_type": "stream",
     "text": [
      "c:\\Users\\Fernando\\AppData\\Local\\Programs\\Python\\Python313\\Lib\\site-packages\\tqdm\\auto.py:21: TqdmWarning: IProgress not found. Please update jupyter and ipywidgets. See https://ipywidgets.readthedocs.io/en/stable/user_install.html\n",
      "  from .autonotebook import tqdm as notebook_tqdm\n",
      "c:\\Users\\Fernando\\AppData\\Local\\Programs\\Python\\Python313\\Lib\\site-packages\\sweetviz\\graph.py:8: UserWarning: pkg_resources is deprecated as an API. See https://setuptools.pypa.io/en/latest/pkg_resources.html. The pkg_resources package is slated for removal as early as 2025-11-30. Refrain from using this package or pin to Setuptools<81.\n",
      "  from pkg_resources import resource_filename\n"
     ]
    }
   ],
   "source": [
    "import pandas as pd\n",
    "import numpy as np\n",
    "import matplotlib.pyplot as plt\n",
    "import seaborn as sns\n",
    "# from ydata_profiling import ProfileReport\n",
    "import sweetviz as sv\n",
    "\n"
   ]
  },
  {
   "cell_type": "markdown",
   "id": "012c43d2",
   "metadata": {},
   "source": [
    "# _______________________________________________________________________________"
   ]
  },
  {
   "cell_type": "markdown",
   "id": "c8068410",
   "metadata": {},
   "source": [
    "## Exploramos la tabla 'empleados'\n"
   ]
  },
  {
   "cell_type": "markdown",
   "id": "9af0be77",
   "metadata": {},
   "source": [
    "Proceso de Data Cleaning & EDA"
   ]
  },
  {
   "cell_type": "code",
   "execution_count": 2,
   "id": "d66f502a",
   "metadata": {},
   "outputs": [
    {
     "name": "stdout",
     "output_type": "stream",
     "text": [
      "Informe: \n",
      "\n",
      "<class 'pandas.core.frame.DataFrame'>\n",
      "RangeIndex: 11 entries, 0 to 10\n",
      "Data columns (total 5 columns):\n",
      " #   Column          Non-Null Count  Dtype \n",
      "---  ------          --------------  ----- \n",
      " 0   empleado_id     11 non-null     int64 \n",
      " 1   nombre          11 non-null     object\n",
      " 2   rol             11 non-null     object\n",
      " 3   turno           11 non-null     object\n",
      " 4   sueldo_mensual  11 non-null     int64 \n",
      "dtypes: int64(2), object(3)\n",
      "memory usage: 572.0+ bytes\n",
      "Cantidad de filas y columnas:  (11, 5)\n"
     ]
    },
    {
     "data": {
      "application/vnd.microsoft.datawrangler.viewer.v0+json": {
       "columns": [
        {
         "name": "index",
         "rawType": "int64",
         "type": "integer"
        },
        {
         "name": "empleado_id",
         "rawType": "int64",
         "type": "integer"
        },
        {
         "name": "nombre",
         "rawType": "object",
         "type": "string"
        },
        {
         "name": "rol",
         "rawType": "object",
         "type": "string"
        },
        {
         "name": "turno",
         "rawType": "object",
         "type": "string"
        },
        {
         "name": "sueldo_mensual",
         "rawType": "int64",
         "type": "integer"
        }
       ],
       "ref": "ba42d19c-358c-4f73-b709-eeb39d65abd2",
       "rows": [
        [
         "0",
         "1",
         "Empleado_1",
         "Cocinero",
         "mañana",
         "450000"
        ],
        [
         "1",
         "2",
         "Empleado_2",
         "Cajero",
         "tarde",
         "400000"
        ],
        [
         "2",
         "3",
         "Empleado_3",
         "Barista",
         "mañana",
         "420000"
        ],
        [
         "3",
         "4",
         "Empleado_4",
         "Camarero",
         "tarde",
         "380000"
        ],
        [
         "4",
         "5",
         "Empleado_5",
         "Camarero",
         "mañana",
         "380000"
        ],
        [
         "5",
         "6",
         "Empleado_6",
         "Camarero",
         "tarde",
         "380000"
        ],
        [
         "6",
         "7",
         "Empleado_7",
         "Camarero",
         "mañana",
         "380000"
        ],
        [
         "7",
         "8",
         "Empleado_8",
         "Camarero",
         "tarde",
         "380000"
        ],
        [
         "8",
         "9",
         "Empleado_9",
         "Camarero",
         "mañana",
         "380000"
        ],
        [
         "9",
         "10",
         "Empleado_10",
         "Camarero",
         "tarde",
         "380000"
        ],
        [
         "10",
         "11",
         "Empleado_11",
         "Camarero",
         "mañana",
         "380000"
        ]
       ],
       "shape": {
        "columns": 5,
        "rows": 11
       }
      },
      "text/html": [
       "<div>\n",
       "<style scoped>\n",
       "    .dataframe tbody tr th:only-of-type {\n",
       "        vertical-align: middle;\n",
       "    }\n",
       "\n",
       "    .dataframe tbody tr th {\n",
       "        vertical-align: top;\n",
       "    }\n",
       "\n",
       "    .dataframe thead th {\n",
       "        text-align: right;\n",
       "    }\n",
       "</style>\n",
       "<table border=\"1\" class=\"dataframe\">\n",
       "  <thead>\n",
       "    <tr style=\"text-align: right;\">\n",
       "      <th></th>\n",
       "      <th>empleado_id</th>\n",
       "      <th>nombre</th>\n",
       "      <th>rol</th>\n",
       "      <th>turno</th>\n",
       "      <th>sueldo_mensual</th>\n",
       "    </tr>\n",
       "  </thead>\n",
       "  <tbody>\n",
       "    <tr>\n",
       "      <th>0</th>\n",
       "      <td>1</td>\n",
       "      <td>Empleado_1</td>\n",
       "      <td>Cocinero</td>\n",
       "      <td>mañana</td>\n",
       "      <td>450000</td>\n",
       "    </tr>\n",
       "    <tr>\n",
       "      <th>1</th>\n",
       "      <td>2</td>\n",
       "      <td>Empleado_2</td>\n",
       "      <td>Cajero</td>\n",
       "      <td>tarde</td>\n",
       "      <td>400000</td>\n",
       "    </tr>\n",
       "    <tr>\n",
       "      <th>2</th>\n",
       "      <td>3</td>\n",
       "      <td>Empleado_3</td>\n",
       "      <td>Barista</td>\n",
       "      <td>mañana</td>\n",
       "      <td>420000</td>\n",
       "    </tr>\n",
       "    <tr>\n",
       "      <th>3</th>\n",
       "      <td>4</td>\n",
       "      <td>Empleado_4</td>\n",
       "      <td>Camarero</td>\n",
       "      <td>tarde</td>\n",
       "      <td>380000</td>\n",
       "    </tr>\n",
       "    <tr>\n",
       "      <th>4</th>\n",
       "      <td>5</td>\n",
       "      <td>Empleado_5</td>\n",
       "      <td>Camarero</td>\n",
       "      <td>mañana</td>\n",
       "      <td>380000</td>\n",
       "    </tr>\n",
       "    <tr>\n",
       "      <th>5</th>\n",
       "      <td>6</td>\n",
       "      <td>Empleado_6</td>\n",
       "      <td>Camarero</td>\n",
       "      <td>tarde</td>\n",
       "      <td>380000</td>\n",
       "    </tr>\n",
       "    <tr>\n",
       "      <th>6</th>\n",
       "      <td>7</td>\n",
       "      <td>Empleado_7</td>\n",
       "      <td>Camarero</td>\n",
       "      <td>mañana</td>\n",
       "      <td>380000</td>\n",
       "    </tr>\n",
       "    <tr>\n",
       "      <th>7</th>\n",
       "      <td>8</td>\n",
       "      <td>Empleado_8</td>\n",
       "      <td>Camarero</td>\n",
       "      <td>tarde</td>\n",
       "      <td>380000</td>\n",
       "    </tr>\n",
       "    <tr>\n",
       "      <th>8</th>\n",
       "      <td>9</td>\n",
       "      <td>Empleado_9</td>\n",
       "      <td>Camarero</td>\n",
       "      <td>mañana</td>\n",
       "      <td>380000</td>\n",
       "    </tr>\n",
       "    <tr>\n",
       "      <th>9</th>\n",
       "      <td>10</td>\n",
       "      <td>Empleado_10</td>\n",
       "      <td>Camarero</td>\n",
       "      <td>tarde</td>\n",
       "      <td>380000</td>\n",
       "    </tr>\n",
       "    <tr>\n",
       "      <th>10</th>\n",
       "      <td>11</td>\n",
       "      <td>Empleado_11</td>\n",
       "      <td>Camarero</td>\n",
       "      <td>mañana</td>\n",
       "      <td>380000</td>\n",
       "    </tr>\n",
       "  </tbody>\n",
       "</table>\n",
       "</div>"
      ],
      "text/plain": [
       "    empleado_id       nombre       rol   turno  sueldo_mensual\n",
       "0             1   Empleado_1  Cocinero  mañana          450000\n",
       "1             2   Empleado_2    Cajero   tarde          400000\n",
       "2             3   Empleado_3   Barista  mañana          420000\n",
       "3             4   Empleado_4  Camarero   tarde          380000\n",
       "4             5   Empleado_5  Camarero  mañana          380000\n",
       "5             6   Empleado_6  Camarero   tarde          380000\n",
       "6             7   Empleado_7  Camarero  mañana          380000\n",
       "7             8   Empleado_8  Camarero   tarde          380000\n",
       "8             9   Empleado_9  Camarero  mañana          380000\n",
       "9            10  Empleado_10  Camarero   tarde          380000\n",
       "10           11  Empleado_11  Camarero  mañana          380000"
      ]
     },
     "execution_count": 2,
     "metadata": {},
     "output_type": "execute_result"
    }
   ],
   "source": [
    "## Definimos la ruta del archivo\n",
    "ruta_empleado_csv = r'C:\\Users\\Fernando\\Desktop\\Ventas Café Especialidad\\Data\\empleados.csv'\n",
    "\n",
    "# Leemos el archivo\n",
    "df_empleados = pd.read_csv(ruta_empleado_csv)\n",
    "\n",
    "# Vemos la información\n",
    "print(\"Informe: \\n\")\n",
    "df_empleados.info()\n",
    "\n",
    "print(\"Cantidad de filas y columnas: \", df_empleados.shape)\n",
    "\n",
    "## Mostramos la tabla (los primeros 100)\n",
    "df_empleados.head(100)\n",
    "\n",
    "\n",
    "\n",
    "\n",
    "\n",
    "\n",
    "\n"
   ]
  },
  {
   "cell_type": "code",
   "execution_count": 3,
   "id": "f88f7491",
   "metadata": {},
   "outputs": [
    {
     "name": "stdout",
     "output_type": "stream",
     "text": [
      "Métricas y Estadísticas: \n"
     ]
    },
    {
     "data": {
      "application/vnd.microsoft.datawrangler.viewer.v0+json": {
       "columns": [
        {
         "name": "index",
         "rawType": "object",
         "type": "string"
        },
        {
         "name": "empleado_id",
         "rawType": "float64",
         "type": "float"
        },
        {
         "name": "sueldo_mensual",
         "rawType": "float64",
         "type": "float"
        }
       ],
       "ref": "00b19e48-ffeb-4b6d-b02a-b8ecc11aa35f",
       "rows": [
        [
         "count",
         "11.0",
         "11.0"
        ],
        [
         "mean",
         "6.0",
         "391818.1818181818"
        ],
        [
         "std",
         "3.3166247903554",
         "23159.525823376356"
        ],
        [
         "min",
         "1.0",
         "380000.0"
        ],
        [
         "25%",
         "3.5",
         "380000.0"
        ],
        [
         "50%",
         "6.0",
         "380000.0"
        ],
        [
         "75%",
         "8.5",
         "390000.0"
        ],
        [
         "max",
         "11.0",
         "450000.0"
        ]
       ],
       "shape": {
        "columns": 2,
        "rows": 8
       }
      },
      "text/html": [
       "<div>\n",
       "<style scoped>\n",
       "    .dataframe tbody tr th:only-of-type {\n",
       "        vertical-align: middle;\n",
       "    }\n",
       "\n",
       "    .dataframe tbody tr th {\n",
       "        vertical-align: top;\n",
       "    }\n",
       "\n",
       "    .dataframe thead th {\n",
       "        text-align: right;\n",
       "    }\n",
       "</style>\n",
       "<table border=\"1\" class=\"dataframe\">\n",
       "  <thead>\n",
       "    <tr style=\"text-align: right;\">\n",
       "      <th></th>\n",
       "      <th>empleado_id</th>\n",
       "      <th>sueldo_mensual</th>\n",
       "    </tr>\n",
       "  </thead>\n",
       "  <tbody>\n",
       "    <tr>\n",
       "      <th>count</th>\n",
       "      <td>11.000000</td>\n",
       "      <td>11.000000</td>\n",
       "    </tr>\n",
       "    <tr>\n",
       "      <th>mean</th>\n",
       "      <td>6.000000</td>\n",
       "      <td>391818.181818</td>\n",
       "    </tr>\n",
       "    <tr>\n",
       "      <th>std</th>\n",
       "      <td>3.316625</td>\n",
       "      <td>23159.525823</td>\n",
       "    </tr>\n",
       "    <tr>\n",
       "      <th>min</th>\n",
       "      <td>1.000000</td>\n",
       "      <td>380000.000000</td>\n",
       "    </tr>\n",
       "    <tr>\n",
       "      <th>25%</th>\n",
       "      <td>3.500000</td>\n",
       "      <td>380000.000000</td>\n",
       "    </tr>\n",
       "    <tr>\n",
       "      <th>50%</th>\n",
       "      <td>6.000000</td>\n",
       "      <td>380000.000000</td>\n",
       "    </tr>\n",
       "    <tr>\n",
       "      <th>75%</th>\n",
       "      <td>8.500000</td>\n",
       "      <td>390000.000000</td>\n",
       "    </tr>\n",
       "    <tr>\n",
       "      <th>max</th>\n",
       "      <td>11.000000</td>\n",
       "      <td>450000.000000</td>\n",
       "    </tr>\n",
       "  </tbody>\n",
       "</table>\n",
       "</div>"
      ],
      "text/plain": [
       "       empleado_id  sueldo_mensual\n",
       "count    11.000000       11.000000\n",
       "mean      6.000000   391818.181818\n",
       "std       3.316625    23159.525823\n",
       "min       1.000000   380000.000000\n",
       "25%       3.500000   380000.000000\n",
       "50%       6.000000   380000.000000\n",
       "75%       8.500000   390000.000000\n",
       "max      11.000000   450000.000000"
      ]
     },
     "execution_count": 3,
     "metadata": {},
     "output_type": "execute_result"
    }
   ],
   "source": [
    "# Métricas y estadísticas\n",
    "print(\"Métricas y Estadísticas: \")\n",
    "df_empleados.describe()"
   ]
  },
  {
   "cell_type": "markdown",
   "id": "cf8313e1",
   "metadata": {},
   "source": [
    "Transformación de tipo de datos"
   ]
  },
  {
   "cell_type": "code",
   "execution_count": 4,
   "id": "b8517af2",
   "metadata": {},
   "outputs": [],
   "source": [
    "# Convertimos a 'float' la columna \"sueldo_mensual\"\n",
    "df_empleados[\"sueldo_mensual\"] = df_empleados[\"sueldo_mensual\"].astype(float)\n",
    "\n",
    "# Guardamos el cambio en el archivo .csv\n",
    "df_empleados.to_csv(r'C:\\Users\\Fernando\\Desktop\\Ventas Café Especialidad\\Data\\empleados.csv', index=False)\n"
   ]
  },
  {
   "cell_type": "markdown",
   "id": "6ec25c7c",
   "metadata": {},
   "source": [
    "# _______________________________________________________________________________"
   ]
  },
  {
   "cell_type": "markdown",
   "id": "0372dd78",
   "metadata": {},
   "source": [
    "# Exploramos la tabla 'ventas'\n"
   ]
  },
  {
   "cell_type": "code",
   "execution_count": 18,
   "id": "c186fbaf",
   "metadata": {},
   "outputs": [
    {
     "name": "stdout",
     "output_type": "stream",
     "text": [
      "Informe: \n",
      "\n",
      "<class 'pandas.core.frame.DataFrame'>\n",
      "RangeIndex: 11 entries, 0 to 10\n",
      "Data columns (total 5 columns):\n",
      " #   Column          Non-Null Count  Dtype  \n",
      "---  ------          --------------  -----  \n",
      " 0   empleado_id     11 non-null     int64  \n",
      " 1   nombre          11 non-null     object \n",
      " 2   rol             11 non-null     object \n",
      " 3   turno           11 non-null     object \n",
      " 4   sueldo_mensual  11 non-null     float64\n",
      "dtypes: float64(1), int64(1), object(3)\n",
      "memory usage: 572.0+ bytes\n",
      "Cantidad de filas y columnas:  (11, 5)\n"
     ]
    },
    {
     "data": {
      "application/vnd.microsoft.datawrangler.viewer.v0+json": {
       "columns": [
        {
         "name": "index",
         "rawType": "int64",
         "type": "integer"
        },
        {
         "name": "empleado_id",
         "rawType": "int64",
         "type": "integer"
        },
        {
         "name": "nombre",
         "rawType": "object",
         "type": "string"
        },
        {
         "name": "rol",
         "rawType": "object",
         "type": "string"
        },
        {
         "name": "turno",
         "rawType": "object",
         "type": "string"
        },
        {
         "name": "sueldo_mensual",
         "rawType": "float64",
         "type": "float"
        }
       ],
       "ref": "260dc2e1-8f26-483f-bf5f-faeffbd18cda",
       "rows": [
        [
         "0",
         "1",
         "Empleado_1",
         "Cocinero",
         "mañana",
         "450000.0"
        ],
        [
         "1",
         "2",
         "Empleado_2",
         "Cajero",
         "tarde",
         "400000.0"
        ],
        [
         "2",
         "3",
         "Empleado_3",
         "Barista",
         "mañana",
         "420000.0"
        ],
        [
         "3",
         "4",
         "Empleado_4",
         "Camarero",
         "tarde",
         "380000.0"
        ],
        [
         "4",
         "5",
         "Empleado_5",
         "Camarero",
         "mañana",
         "380000.0"
        ],
        [
         "5",
         "6",
         "Empleado_6",
         "Camarero",
         "tarde",
         "380000.0"
        ],
        [
         "6",
         "7",
         "Empleado_7",
         "Camarero",
         "mañana",
         "380000.0"
        ],
        [
         "7",
         "8",
         "Empleado_8",
         "Camarero",
         "tarde",
         "380000.0"
        ],
        [
         "8",
         "9",
         "Empleado_9",
         "Camarero",
         "mañana",
         "380000.0"
        ],
        [
         "9",
         "10",
         "Empleado_10",
         "Camarero",
         "tarde",
         "380000.0"
        ],
        [
         "10",
         "11",
         "Empleado_11",
         "Camarero",
         "mañana",
         "380000.0"
        ]
       ],
       "shape": {
        "columns": 5,
        "rows": 11
       }
      },
      "text/html": [
       "<div>\n",
       "<style scoped>\n",
       "    .dataframe tbody tr th:only-of-type {\n",
       "        vertical-align: middle;\n",
       "    }\n",
       "\n",
       "    .dataframe tbody tr th {\n",
       "        vertical-align: top;\n",
       "    }\n",
       "\n",
       "    .dataframe thead th {\n",
       "        text-align: right;\n",
       "    }\n",
       "</style>\n",
       "<table border=\"1\" class=\"dataframe\">\n",
       "  <thead>\n",
       "    <tr style=\"text-align: right;\">\n",
       "      <th></th>\n",
       "      <th>empleado_id</th>\n",
       "      <th>nombre</th>\n",
       "      <th>rol</th>\n",
       "      <th>turno</th>\n",
       "      <th>sueldo_mensual</th>\n",
       "    </tr>\n",
       "  </thead>\n",
       "  <tbody>\n",
       "    <tr>\n",
       "      <th>0</th>\n",
       "      <td>1</td>\n",
       "      <td>Empleado_1</td>\n",
       "      <td>Cocinero</td>\n",
       "      <td>mañana</td>\n",
       "      <td>450000.0</td>\n",
       "    </tr>\n",
       "    <tr>\n",
       "      <th>1</th>\n",
       "      <td>2</td>\n",
       "      <td>Empleado_2</td>\n",
       "      <td>Cajero</td>\n",
       "      <td>tarde</td>\n",
       "      <td>400000.0</td>\n",
       "    </tr>\n",
       "    <tr>\n",
       "      <th>2</th>\n",
       "      <td>3</td>\n",
       "      <td>Empleado_3</td>\n",
       "      <td>Barista</td>\n",
       "      <td>mañana</td>\n",
       "      <td>420000.0</td>\n",
       "    </tr>\n",
       "    <tr>\n",
       "      <th>3</th>\n",
       "      <td>4</td>\n",
       "      <td>Empleado_4</td>\n",
       "      <td>Camarero</td>\n",
       "      <td>tarde</td>\n",
       "      <td>380000.0</td>\n",
       "    </tr>\n",
       "    <tr>\n",
       "      <th>4</th>\n",
       "      <td>5</td>\n",
       "      <td>Empleado_5</td>\n",
       "      <td>Camarero</td>\n",
       "      <td>mañana</td>\n",
       "      <td>380000.0</td>\n",
       "    </tr>\n",
       "    <tr>\n",
       "      <th>5</th>\n",
       "      <td>6</td>\n",
       "      <td>Empleado_6</td>\n",
       "      <td>Camarero</td>\n",
       "      <td>tarde</td>\n",
       "      <td>380000.0</td>\n",
       "    </tr>\n",
       "    <tr>\n",
       "      <th>6</th>\n",
       "      <td>7</td>\n",
       "      <td>Empleado_7</td>\n",
       "      <td>Camarero</td>\n",
       "      <td>mañana</td>\n",
       "      <td>380000.0</td>\n",
       "    </tr>\n",
       "    <tr>\n",
       "      <th>7</th>\n",
       "      <td>8</td>\n",
       "      <td>Empleado_8</td>\n",
       "      <td>Camarero</td>\n",
       "      <td>tarde</td>\n",
       "      <td>380000.0</td>\n",
       "    </tr>\n",
       "    <tr>\n",
       "      <th>8</th>\n",
       "      <td>9</td>\n",
       "      <td>Empleado_9</td>\n",
       "      <td>Camarero</td>\n",
       "      <td>mañana</td>\n",
       "      <td>380000.0</td>\n",
       "    </tr>\n",
       "    <tr>\n",
       "      <th>9</th>\n",
       "      <td>10</td>\n",
       "      <td>Empleado_10</td>\n",
       "      <td>Camarero</td>\n",
       "      <td>tarde</td>\n",
       "      <td>380000.0</td>\n",
       "    </tr>\n",
       "    <tr>\n",
       "      <th>10</th>\n",
       "      <td>11</td>\n",
       "      <td>Empleado_11</td>\n",
       "      <td>Camarero</td>\n",
       "      <td>mañana</td>\n",
       "      <td>380000.0</td>\n",
       "    </tr>\n",
       "  </tbody>\n",
       "</table>\n",
       "</div>"
      ],
      "text/plain": [
       "    empleado_id       nombre       rol   turno  sueldo_mensual\n",
       "0             1   Empleado_1  Cocinero  mañana        450000.0\n",
       "1             2   Empleado_2    Cajero   tarde        400000.0\n",
       "2             3   Empleado_3   Barista  mañana        420000.0\n",
       "3             4   Empleado_4  Camarero   tarde        380000.0\n",
       "4             5   Empleado_5  Camarero  mañana        380000.0\n",
       "5             6   Empleado_6  Camarero   tarde        380000.0\n",
       "6             7   Empleado_7  Camarero  mañana        380000.0\n",
       "7             8   Empleado_8  Camarero   tarde        380000.0\n",
       "8             9   Empleado_9  Camarero  mañana        380000.0\n",
       "9            10  Empleado_10  Camarero   tarde        380000.0\n",
       "10           11  Empleado_11  Camarero  mañana        380000.0"
      ]
     },
     "execution_count": 18,
     "metadata": {},
     "output_type": "execute_result"
    }
   ],
   "source": [
    "## Definimos la ruta del archivo\n",
    "ruta_ventas_csv = r'C:\\Users\\Fernando\\Desktop\\Ventas Café Especialidad\\Data\\ventas.csv'\n",
    "\n",
    "# Leemos el archivo\n",
    "df_ventas = pd.read_csv(ruta_ventas_csv)\n",
    "\n",
    "# Vemos la información\n",
    "print(\"Informe: \\n\")\n",
    "df_ventas.info()\n",
    "\n",
    "print(\"Cantidad de filas y columnas: \", df_ventas.shape)\n",
    "\n",
    "## Mostramos la tabla (los primeros 100)\n",
    "df_ventas.head(1250)"
   ]
  },
  {
   "cell_type": "markdown",
   "id": "8767919e",
   "metadata": {},
   "source": [
    "Los tipos de datos estan bien, pero cambiaremos la columna 'fecha' a \"datetime\" y 'total_ticket' a \"float\""
   ]
  },
  {
   "cell_type": "code",
   "execution_count": 17,
   "id": "fa750015",
   "metadata": {},
   "outputs": [
    {
     "ename": "KeyError",
     "evalue": "'total_ticket'",
     "output_type": "error",
     "traceback": [
      "\u001b[31m---------------------------------------------------------------------------\u001b[39m",
      "\u001b[31mKeyError\u001b[39m                                  Traceback (most recent call last)",
      "\u001b[36mFile \u001b[39m\u001b[32mc:\\Users\\Fernando\\AppData\\Local\\Programs\\Python\\Python313\\Lib\\site-packages\\pandas\\core\\indexes\\base.py:3812\u001b[39m, in \u001b[36mIndex.get_loc\u001b[39m\u001b[34m(self, key)\u001b[39m\n\u001b[32m   3811\u001b[39m \u001b[38;5;28;01mtry\u001b[39;00m:\n\u001b[32m-> \u001b[39m\u001b[32m3812\u001b[39m     \u001b[38;5;28;01mreturn\u001b[39;00m \u001b[38;5;28;43mself\u001b[39;49m\u001b[43m.\u001b[49m\u001b[43m_engine\u001b[49m\u001b[43m.\u001b[49m\u001b[43mget_loc\u001b[49m\u001b[43m(\u001b[49m\u001b[43mcasted_key\u001b[49m\u001b[43m)\u001b[49m\n\u001b[32m   3813\u001b[39m \u001b[38;5;28;01mexcept\u001b[39;00m \u001b[38;5;167;01mKeyError\u001b[39;00m \u001b[38;5;28;01mas\u001b[39;00m err:\n",
      "\u001b[36mFile \u001b[39m\u001b[32mpandas/_libs/index.pyx:167\u001b[39m, in \u001b[36mpandas._libs.index.IndexEngine.get_loc\u001b[39m\u001b[34m()\u001b[39m\n",
      "\u001b[36mFile \u001b[39m\u001b[32mpandas/_libs/index.pyx:196\u001b[39m, in \u001b[36mpandas._libs.index.IndexEngine.get_loc\u001b[39m\u001b[34m()\u001b[39m\n",
      "\u001b[36mFile \u001b[39m\u001b[32mpandas/_libs/hashtable_class_helper.pxi:7088\u001b[39m, in \u001b[36mpandas._libs.hashtable.PyObjectHashTable.get_item\u001b[39m\u001b[34m()\u001b[39m\n",
      "\u001b[36mFile \u001b[39m\u001b[32mpandas/_libs/hashtable_class_helper.pxi:7096\u001b[39m, in \u001b[36mpandas._libs.hashtable.PyObjectHashTable.get_item\u001b[39m\u001b[34m()\u001b[39m\n",
      "\u001b[31mKeyError\u001b[39m: 'total_ticket'",
      "\nThe above exception was the direct cause of the following exception:\n",
      "\u001b[31mKeyError\u001b[39m                                  Traceback (most recent call last)",
      "\u001b[36mCell\u001b[39m\u001b[36m \u001b[39m\u001b[32mIn[17]\u001b[39m\u001b[32m, line 3\u001b[39m\n\u001b[32m      1\u001b[39m \u001b[38;5;66;03m## Cambiamos los tipo de datos\u001b[39;00m\n\u001b[32m      2\u001b[39m \u001b[38;5;66;03m# df_ventas[\"fecha\"] = pd.to_datetime(df_ventas[\"fecha\"])\u001b[39;00m\n\u001b[32m----> \u001b[39m\u001b[32m3\u001b[39m df_ventas[\u001b[33m\"\u001b[39m\u001b[33mtotal_ticket\u001b[39m\u001b[33m\"\u001b[39m] = \u001b[43mdf_ventas\u001b[49m\u001b[43m[\u001b[49m\u001b[33;43m\"\u001b[39;49m\u001b[33;43mtotal_ticket\u001b[39;49m\u001b[33;43m\"\u001b[39;49m\u001b[43m]\u001b[49m.astype(\u001b[38;5;28mfloat\u001b[39m)\n\u001b[32m      5\u001b[39m \u001b[38;5;66;03m# Guardamos el cambio en el archivo .csv\u001b[39;00m\n\u001b[32m      6\u001b[39m df_empleados.to_csv(\u001b[33mr\u001b[39m\u001b[33m'\u001b[39m\u001b[33mC:\u001b[39m\u001b[33m\\\u001b[39m\u001b[33mUsers\u001b[39m\u001b[33m\\\u001b[39m\u001b[33mFernando\u001b[39m\u001b[33m\\\u001b[39m\u001b[33mDesktop\u001b[39m\u001b[33m\\\u001b[39m\u001b[33mVentas Café Especialidad\u001b[39m\u001b[33m\\\u001b[39m\u001b[33mData\u001b[39m\u001b[33m\\\u001b[39m\u001b[33mventas.csv\u001b[39m\u001b[33m'\u001b[39m, index=\u001b[38;5;28;01mFalse\u001b[39;00m)\n",
      "\u001b[36mFile \u001b[39m\u001b[32mc:\\Users\\Fernando\\AppData\\Local\\Programs\\Python\\Python313\\Lib\\site-packages\\pandas\\core\\frame.py:4107\u001b[39m, in \u001b[36mDataFrame.__getitem__\u001b[39m\u001b[34m(self, key)\u001b[39m\n\u001b[32m   4105\u001b[39m \u001b[38;5;28;01mif\u001b[39;00m \u001b[38;5;28mself\u001b[39m.columns.nlevels > \u001b[32m1\u001b[39m:\n\u001b[32m   4106\u001b[39m     \u001b[38;5;28;01mreturn\u001b[39;00m \u001b[38;5;28mself\u001b[39m._getitem_multilevel(key)\n\u001b[32m-> \u001b[39m\u001b[32m4107\u001b[39m indexer = \u001b[38;5;28;43mself\u001b[39;49m\u001b[43m.\u001b[49m\u001b[43mcolumns\u001b[49m\u001b[43m.\u001b[49m\u001b[43mget_loc\u001b[49m\u001b[43m(\u001b[49m\u001b[43mkey\u001b[49m\u001b[43m)\u001b[49m\n\u001b[32m   4108\u001b[39m \u001b[38;5;28;01mif\u001b[39;00m is_integer(indexer):\n\u001b[32m   4109\u001b[39m     indexer = [indexer]\n",
      "\u001b[36mFile \u001b[39m\u001b[32mc:\\Users\\Fernando\\AppData\\Local\\Programs\\Python\\Python313\\Lib\\site-packages\\pandas\\core\\indexes\\base.py:3819\u001b[39m, in \u001b[36mIndex.get_loc\u001b[39m\u001b[34m(self, key)\u001b[39m\n\u001b[32m   3814\u001b[39m     \u001b[38;5;28;01mif\u001b[39;00m \u001b[38;5;28misinstance\u001b[39m(casted_key, \u001b[38;5;28mslice\u001b[39m) \u001b[38;5;129;01mor\u001b[39;00m (\n\u001b[32m   3815\u001b[39m         \u001b[38;5;28misinstance\u001b[39m(casted_key, abc.Iterable)\n\u001b[32m   3816\u001b[39m         \u001b[38;5;129;01mand\u001b[39;00m \u001b[38;5;28many\u001b[39m(\u001b[38;5;28misinstance\u001b[39m(x, \u001b[38;5;28mslice\u001b[39m) \u001b[38;5;28;01mfor\u001b[39;00m x \u001b[38;5;129;01min\u001b[39;00m casted_key)\n\u001b[32m   3817\u001b[39m     ):\n\u001b[32m   3818\u001b[39m         \u001b[38;5;28;01mraise\u001b[39;00m InvalidIndexError(key)\n\u001b[32m-> \u001b[39m\u001b[32m3819\u001b[39m     \u001b[38;5;28;01mraise\u001b[39;00m \u001b[38;5;167;01mKeyError\u001b[39;00m(key) \u001b[38;5;28;01mfrom\u001b[39;00m\u001b[38;5;250m \u001b[39m\u001b[34;01merr\u001b[39;00m\n\u001b[32m   3820\u001b[39m \u001b[38;5;28;01mexcept\u001b[39;00m \u001b[38;5;167;01mTypeError\u001b[39;00m:\n\u001b[32m   3821\u001b[39m     \u001b[38;5;66;03m# If we have a listlike key, _check_indexing_error will raise\u001b[39;00m\n\u001b[32m   3822\u001b[39m     \u001b[38;5;66;03m#  InvalidIndexError. Otherwise we fall through and re-raise\u001b[39;00m\n\u001b[32m   3823\u001b[39m     \u001b[38;5;66;03m#  the TypeError.\u001b[39;00m\n\u001b[32m   3824\u001b[39m     \u001b[38;5;28mself\u001b[39m._check_indexing_error(key)\n",
      "\u001b[31mKeyError\u001b[39m: 'total_ticket'"
     ]
    }
   ],
   "source": [
    "\n",
    "## Cambiamos los tipo de datos\n",
    "# df_ventas[\"fecha\"] = pd.to_datetime(df_ventas[\"fecha\"])\n",
    "df_ventas[\"total_ticket\"] = df_ventas[\"total_ticket\"].astype(float)\n",
    "\n",
    "# Guardamos el cambio en el archivo .csv\n",
    "df_empleados.to_csv(r'C:\\Users\\Fernando\\Desktop\\Ventas Café Especialidad\\Data\\ventas.csv', index=False)"
   ]
  },
  {
   "cell_type": "markdown",
   "id": "d826c5fb",
   "metadata": {},
   "source": [
    "Primeras medidas y visualizaciones de 'ventas'"
   ]
  },
  {
   "cell_type": "markdown",
   "id": "611eba0d",
   "metadata": {},
   "source": [
    "📊 Medidas iniciales\n",
    "Vamos a calcular:\n",
    "\n",
    "Ingresos totales\n",
    "\n",
    "Ticket promedio\n",
    "\n",
    "Ventas por tipo de servicio\n",
    "\n",
    "Ventas por camarero\n",
    "\n",
    "Ventas por franja horaria\n",
    "\n",
    "Evolución diaria de ingresos"
   ]
  },
  {
   "cell_type": "code",
   "execution_count": 13,
   "id": "07d797e2",
   "metadata": {},
   "outputs": [
    {
     "ename": "KeyError",
     "evalue": "'total_ticket'",
     "output_type": "error",
     "traceback": [
      "\u001b[31m---------------------------------------------------------------------------\u001b[39m",
      "\u001b[31mKeyError\u001b[39m                                  Traceback (most recent call last)",
      "\u001b[36mFile \u001b[39m\u001b[32mc:\\Users\\Fernando\\AppData\\Local\\Programs\\Python\\Python313\\Lib\\site-packages\\pandas\\core\\indexes\\base.py:3812\u001b[39m, in \u001b[36mIndex.get_loc\u001b[39m\u001b[34m(self, key)\u001b[39m\n\u001b[32m   3811\u001b[39m \u001b[38;5;28;01mtry\u001b[39;00m:\n\u001b[32m-> \u001b[39m\u001b[32m3812\u001b[39m     \u001b[38;5;28;01mreturn\u001b[39;00m \u001b[38;5;28;43mself\u001b[39;49m\u001b[43m.\u001b[49m\u001b[43m_engine\u001b[49m\u001b[43m.\u001b[49m\u001b[43mget_loc\u001b[49m\u001b[43m(\u001b[49m\u001b[43mcasted_key\u001b[49m\u001b[43m)\u001b[49m\n\u001b[32m   3813\u001b[39m \u001b[38;5;28;01mexcept\u001b[39;00m \u001b[38;5;167;01mKeyError\u001b[39;00m \u001b[38;5;28;01mas\u001b[39;00m err:\n",
      "\u001b[36mFile \u001b[39m\u001b[32mpandas/_libs/index.pyx:167\u001b[39m, in \u001b[36mpandas._libs.index.IndexEngine.get_loc\u001b[39m\u001b[34m()\u001b[39m\n",
      "\u001b[36mFile \u001b[39m\u001b[32mpandas/_libs/index.pyx:196\u001b[39m, in \u001b[36mpandas._libs.index.IndexEngine.get_loc\u001b[39m\u001b[34m()\u001b[39m\n",
      "\u001b[36mFile \u001b[39m\u001b[32mpandas/_libs/hashtable_class_helper.pxi:7088\u001b[39m, in \u001b[36mpandas._libs.hashtable.PyObjectHashTable.get_item\u001b[39m\u001b[34m()\u001b[39m\n",
      "\u001b[36mFile \u001b[39m\u001b[32mpandas/_libs/hashtable_class_helper.pxi:7096\u001b[39m, in \u001b[36mpandas._libs.hashtable.PyObjectHashTable.get_item\u001b[39m\u001b[34m()\u001b[39m\n",
      "\u001b[31mKeyError\u001b[39m: 'total_ticket'",
      "\nThe above exception was the direct cause of the following exception:\n",
      "\u001b[31mKeyError\u001b[39m                                  Traceback (most recent call last)",
      "\u001b[36mCell\u001b[39m\u001b[36m \u001b[39m\u001b[32mIn[13]\u001b[39m\u001b[32m, line 15\u001b[39m\n\u001b[32m     10\u001b[39m df_ventas = pd.read_csv(ruta_ventas_csv)\n\u001b[32m     12\u001b[39m \u001b[38;5;66;03m# ====================\u001b[39;00m\n\u001b[32m     13\u001b[39m \u001b[38;5;66;03m# 1️⃣ Medidas iniciales\u001b[39;00m\n\u001b[32m     14\u001b[39m \u001b[38;5;66;03m# ====================\u001b[39;00m\n\u001b[32m---> \u001b[39m\u001b[32m15\u001b[39m ingresos_totales = \u001b[43mdf_ventas\u001b[49m\u001b[43m[\u001b[49m\u001b[33;43m\"\u001b[39;49m\u001b[33;43mtotal_ticket\u001b[39;49m\u001b[33;43m\"\u001b[39;49m\u001b[43m]\u001b[49m.sum()\n\u001b[32m     16\u001b[39m ticket_promedio = df_ventas[\u001b[33m\"\u001b[39m\u001b[33mtotal_ticket\u001b[39m\u001b[33m\"\u001b[39m].mean()\n\u001b[32m     18\u001b[39m \u001b[38;5;28mprint\u001b[39m(\u001b[33mf\u001b[39m\u001b[33m\"\u001b[39m\u001b[33mIngresos totales: $\u001b[39m\u001b[38;5;132;01m{\u001b[39;00mingresos_totales\u001b[38;5;132;01m:\u001b[39;00m\u001b[33m,.2f\u001b[39m\u001b[38;5;132;01m}\u001b[39;00m\u001b[33m\"\u001b[39m)\n",
      "\u001b[36mFile \u001b[39m\u001b[32mc:\\Users\\Fernando\\AppData\\Local\\Programs\\Python\\Python313\\Lib\\site-packages\\pandas\\core\\frame.py:4107\u001b[39m, in \u001b[36mDataFrame.__getitem__\u001b[39m\u001b[34m(self, key)\u001b[39m\n\u001b[32m   4105\u001b[39m \u001b[38;5;28;01mif\u001b[39;00m \u001b[38;5;28mself\u001b[39m.columns.nlevels > \u001b[32m1\u001b[39m:\n\u001b[32m   4106\u001b[39m     \u001b[38;5;28;01mreturn\u001b[39;00m \u001b[38;5;28mself\u001b[39m._getitem_multilevel(key)\n\u001b[32m-> \u001b[39m\u001b[32m4107\u001b[39m indexer = \u001b[38;5;28;43mself\u001b[39;49m\u001b[43m.\u001b[49m\u001b[43mcolumns\u001b[49m\u001b[43m.\u001b[49m\u001b[43mget_loc\u001b[49m\u001b[43m(\u001b[49m\u001b[43mkey\u001b[49m\u001b[43m)\u001b[49m\n\u001b[32m   4108\u001b[39m \u001b[38;5;28;01mif\u001b[39;00m is_integer(indexer):\n\u001b[32m   4109\u001b[39m     indexer = [indexer]\n",
      "\u001b[36mFile \u001b[39m\u001b[32mc:\\Users\\Fernando\\AppData\\Local\\Programs\\Python\\Python313\\Lib\\site-packages\\pandas\\core\\indexes\\base.py:3819\u001b[39m, in \u001b[36mIndex.get_loc\u001b[39m\u001b[34m(self, key)\u001b[39m\n\u001b[32m   3814\u001b[39m     \u001b[38;5;28;01mif\u001b[39;00m \u001b[38;5;28misinstance\u001b[39m(casted_key, \u001b[38;5;28mslice\u001b[39m) \u001b[38;5;129;01mor\u001b[39;00m (\n\u001b[32m   3815\u001b[39m         \u001b[38;5;28misinstance\u001b[39m(casted_key, abc.Iterable)\n\u001b[32m   3816\u001b[39m         \u001b[38;5;129;01mand\u001b[39;00m \u001b[38;5;28many\u001b[39m(\u001b[38;5;28misinstance\u001b[39m(x, \u001b[38;5;28mslice\u001b[39m) \u001b[38;5;28;01mfor\u001b[39;00m x \u001b[38;5;129;01min\u001b[39;00m casted_key)\n\u001b[32m   3817\u001b[39m     ):\n\u001b[32m   3818\u001b[39m         \u001b[38;5;28;01mraise\u001b[39;00m InvalidIndexError(key)\n\u001b[32m-> \u001b[39m\u001b[32m3819\u001b[39m     \u001b[38;5;28;01mraise\u001b[39;00m \u001b[38;5;167;01mKeyError\u001b[39;00m(key) \u001b[38;5;28;01mfrom\u001b[39;00m\u001b[38;5;250m \u001b[39m\u001b[34;01merr\u001b[39;00m\n\u001b[32m   3820\u001b[39m \u001b[38;5;28;01mexcept\u001b[39;00m \u001b[38;5;167;01mTypeError\u001b[39;00m:\n\u001b[32m   3821\u001b[39m     \u001b[38;5;66;03m# If we have a listlike key, _check_indexing_error will raise\u001b[39;00m\n\u001b[32m   3822\u001b[39m     \u001b[38;5;66;03m#  InvalidIndexError. Otherwise we fall through and re-raise\u001b[39;00m\n\u001b[32m   3823\u001b[39m     \u001b[38;5;66;03m#  the TypeError.\u001b[39;00m\n\u001b[32m   3824\u001b[39m     \u001b[38;5;28mself\u001b[39m._check_indexing_error(key)\n",
      "\u001b[31mKeyError\u001b[39m: 'total_ticket'"
     ]
    }
   ],
   "source": [
    "import pandas as pd\n",
    "import seaborn as sns\n",
    "import matplotlib.pyplot as plt\n",
    "\n",
    "\n",
    "## Definimos la ruta del archivo\n",
    "ruta_ventas_csv = r'C:\\Users\\Fernando\\Desktop\\Ventas Café Especialidad\\Data\\ventas.csv'\n",
    "\n",
    "# Cargar datos\n",
    "df_ventas = pd.read_csv(ruta_ventas_csv)\n",
    "\n",
    "# ====================\n",
    "# 1️⃣ Medidas iniciales\n",
    "# ====================\n",
    "ingresos_totales = df_ventas[\"total_ticket\"].sum()\n",
    "ticket_promedio = df_ventas[\"total_ticket\"].mean()\n",
    "\n",
    "print(f\"Ingresos totales: ${ingresos_totales:,.2f}\")\n",
    "print(f\"Ticket promedio: ${ticket_promedio:,.2f}\")\n",
    "\n",
    "# ===================================\n",
    "# 2️⃣ Visualización: ventas por servicio\n",
    "# ===================================\n",
    "sns.barplot(data=df_ventas, x=\"servicio\", y=\"total_ticket\", estimator=sum, palette=\"viridis\")\n",
    "plt.title(\"Ventas totales por tipo de servicio\")\n",
    "plt.ylabel(\"Ingresos ($)\")\n",
    "plt.show()\n",
    "\n",
    "# ===================================\n",
    "# 3️⃣ Visualización: ventas por camarero\n",
    "# ===================================\n",
    "sns.barplot(data=df_ventas, x=\"camarero\", y=\"total_ticket\", estimator=sum, palette=\"crest\")\n",
    "plt.title(\"Ventas totales por camarero\")\n",
    "plt.ylabel(\"Ingresos ($)\")\n",
    "plt.xticks(rotation=45)\n",
    "plt.show()\n",
    "\n",
    "# ===================================\n",
    "# 4️⃣ Visualización: ventas por franja horaria\n",
    "# ===================================\n",
    "sns.barplot(data=df_ventas, x=\"hora\", y=\"total_ticket\", estimator=sum, palette=\"mako\")\n",
    "plt.title(\"Ventas totales por franja horaria\")\n",
    "plt.ylabel(\"Ingresos ($)\")\n",
    "plt.show()\n",
    "\n",
    "# ===================================\n",
    "# 5️⃣ Evolución diaria de ingresos\n",
    "# ===================================\n",
    "ventas_diarias = df_ventas.groupby(\"fecha\")[\"total_ticket\"].sum().reset_index()\n",
    "sns.lineplot(data=ventas_diarias, x=\"fecha\", y=\"total_ticket\", marker=\"o\")\n",
    "plt.title(\"Evolución diaria de ingresos\")\n",
    "plt.ylabel(\"Ingresos ($)\")\n",
    "plt.xticks(rotation=45)\n",
    "plt.show()\n"
   ]
  }
 ],
 "metadata": {
  "kernelspec": {
   "display_name": "Python 3",
   "language": "python",
   "name": "python3"
  },
  "language_info": {
   "codemirror_mode": {
    "name": "ipython",
    "version": 3
   },
   "file_extension": ".py",
   "mimetype": "text/x-python",
   "name": "python",
   "nbconvert_exporter": "python",
   "pygments_lexer": "ipython3",
   "version": "3.13.5"
  }
 },
 "nbformat": 4,
 "nbformat_minor": 5
}
