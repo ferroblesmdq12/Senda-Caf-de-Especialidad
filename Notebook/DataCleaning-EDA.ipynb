{
 "cells": [
  {
   "cell_type": "markdown",
   "id": "884dc4cd",
   "metadata": {},
   "source": [
    "# SENDA CAFÉ"
   ]
  },
  {
   "cell_type": "markdown",
   "id": "93e6a6a6",
   "metadata": {},
   "source": [
    "SENDA CAFÉ es un proyecto de ventas simuladas en un local de venta de café, tanto para consumir en el lugar o take away.\n",
    "\n",
    "En este proyecto, lo que haremos en primer lugar es el Data Cleaning y luego el EDA, para explorar los datos que tenemos para saber de que tipos son , si hay errores en los en los mismos, cantidad, si hay datos vacíos. Tambien si es necesario de crear nuevas tablas o columnas y así poder obtener los primeros graficos utilizando librerias de Python como Seaborn y Matplotlib.\n",
    "\n",
    "El objetivo es poder saber la cantidad de ventas en determinados periodos, en que momentos del día se realizan mas ventas. Tambien saber cuales son los empleados que mas ticket emiten por dias, horarios, etc. Saber los costos mensuales, ver cuales de ellos es el mas alto, ya sean costos fijos y/o variables. Detectar cuales son los productos que mas costos tienen o producen. Además analizar el stcok de los productos e insumos y compararlos tambien con los costos y las ventas, para entender qué productos son mas vendidos o si tienen mejor margen de ganacias.\n"
   ]
  },
  {
   "cell_type": "markdown",
   "id": "b750a096",
   "metadata": {},
   "source": [
    "# _______________________________________________________________________________"
   ]
  },
  {
   "cell_type": "markdown",
   "id": "ec72d254",
   "metadata": {},
   "source": [
    "Importacíon de librerías"
   ]
  },
  {
   "cell_type": "code",
   "execution_count": 1,
   "id": "124eabc2",
   "metadata": {},
   "outputs": [
    {
     "name": "stderr",
     "output_type": "stream",
     "text": [
      "c:\\Users\\Fernando\\AppData\\Local\\Programs\\Python\\Python313\\Lib\\site-packages\\tqdm\\auto.py:21: TqdmWarning: IProgress not found. Please update jupyter and ipywidgets. See https://ipywidgets.readthedocs.io/en/stable/user_install.html\n",
      "  from .autonotebook import tqdm as notebook_tqdm\n",
      "c:\\Users\\Fernando\\AppData\\Local\\Programs\\Python\\Python313\\Lib\\site-packages\\sweetviz\\graph.py:8: UserWarning: pkg_resources is deprecated as an API. See https://setuptools.pypa.io/en/latest/pkg_resources.html. The pkg_resources package is slated for removal as early as 2025-11-30. Refrain from using this package or pin to Setuptools<81.\n",
      "  from pkg_resources import resource_filename\n"
     ]
    }
   ],
   "source": [
    "import pandas as pd\n",
    "import numpy as np\n",
    "import matplotlib.pyplot as plt\n",
    "import seaborn as sns\n",
    "# from ydata_profiling import ProfileReport\n",
    "import sweetviz as sv\n",
    "\n"
   ]
  },
  {
   "cell_type": "markdown",
   "id": "012c43d2",
   "metadata": {},
   "source": [
    "# _______________________________________________________________________________"
   ]
  },
  {
   "cell_type": "markdown",
   "id": "c8068410",
   "metadata": {},
   "source": [
    "## Exploramos la tabla 'empleados'\n"
   ]
  },
  {
   "cell_type": "markdown",
   "id": "9af0be77",
   "metadata": {},
   "source": [
    "Proceso de Data Cleaning & EDA"
   ]
  },
  {
   "cell_type": "code",
   "execution_count": 2,
   "id": "d66f502a",
   "metadata": {},
   "outputs": [
    {
     "name": "stdout",
     "output_type": "stream",
     "text": [
      "Informe: \n",
      "\n",
      "<class 'pandas.core.frame.DataFrame'>\n",
      "RangeIndex: 11 entries, 0 to 10\n",
      "Data columns (total 5 columns):\n",
      " #   Column          Non-Null Count  Dtype \n",
      "---  ------          --------------  ----- \n",
      " 0   empleado_id     11 non-null     int64 \n",
      " 1   nombre          11 non-null     object\n",
      " 2   rol             11 non-null     object\n",
      " 3   turno           11 non-null     object\n",
      " 4   sueldo_mensual  11 non-null     int64 \n",
      "dtypes: int64(2), object(3)\n",
      "memory usage: 572.0+ bytes\n",
      "Cantidad de filas y columnas:  (11, 5)\n"
     ]
    },
    {
     "data": {
      "application/vnd.microsoft.datawrangler.viewer.v0+json": {
       "columns": [
        {
         "name": "index",
         "rawType": "int64",
         "type": "integer"
        },
        {
         "name": "empleado_id",
         "rawType": "int64",
         "type": "integer"
        },
        {
         "name": "nombre",
         "rawType": "object",
         "type": "string"
        },
        {
         "name": "rol",
         "rawType": "object",
         "type": "string"
        },
        {
         "name": "turno",
         "rawType": "object",
         "type": "string"
        },
        {
         "name": "sueldo_mensual",
         "rawType": "int64",
         "type": "integer"
        }
       ],
       "ref": "ba42d19c-358c-4f73-b709-eeb39d65abd2",
       "rows": [
        [
         "0",
         "1",
         "Empleado_1",
         "Cocinero",
         "mañana",
         "450000"
        ],
        [
         "1",
         "2",
         "Empleado_2",
         "Cajero",
         "tarde",
         "400000"
        ],
        [
         "2",
         "3",
         "Empleado_3",
         "Barista",
         "mañana",
         "420000"
        ],
        [
         "3",
         "4",
         "Empleado_4",
         "Camarero",
         "tarde",
         "380000"
        ],
        [
         "4",
         "5",
         "Empleado_5",
         "Camarero",
         "mañana",
         "380000"
        ],
        [
         "5",
         "6",
         "Empleado_6",
         "Camarero",
         "tarde",
         "380000"
        ],
        [
         "6",
         "7",
         "Empleado_7",
         "Camarero",
         "mañana",
         "380000"
        ],
        [
         "7",
         "8",
         "Empleado_8",
         "Camarero",
         "tarde",
         "380000"
        ],
        [
         "8",
         "9",
         "Empleado_9",
         "Camarero",
         "mañana",
         "380000"
        ],
        [
         "9",
         "10",
         "Empleado_10",
         "Camarero",
         "tarde",
         "380000"
        ],
        [
         "10",
         "11",
         "Empleado_11",
         "Camarero",
         "mañana",
         "380000"
        ]
       ],
       "shape": {
        "columns": 5,
        "rows": 11
       }
      },
      "text/html": [
       "<div>\n",
       "<style scoped>\n",
       "    .dataframe tbody tr th:only-of-type {\n",
       "        vertical-align: middle;\n",
       "    }\n",
       "\n",
       "    .dataframe tbody tr th {\n",
       "        vertical-align: top;\n",
       "    }\n",
       "\n",
       "    .dataframe thead th {\n",
       "        text-align: right;\n",
       "    }\n",
       "</style>\n",
       "<table border=\"1\" class=\"dataframe\">\n",
       "  <thead>\n",
       "    <tr style=\"text-align: right;\">\n",
       "      <th></th>\n",
       "      <th>empleado_id</th>\n",
       "      <th>nombre</th>\n",
       "      <th>rol</th>\n",
       "      <th>turno</th>\n",
       "      <th>sueldo_mensual</th>\n",
       "    </tr>\n",
       "  </thead>\n",
       "  <tbody>\n",
       "    <tr>\n",
       "      <th>0</th>\n",
       "      <td>1</td>\n",
       "      <td>Empleado_1</td>\n",
       "      <td>Cocinero</td>\n",
       "      <td>mañana</td>\n",
       "      <td>450000</td>\n",
       "    </tr>\n",
       "    <tr>\n",
       "      <th>1</th>\n",
       "      <td>2</td>\n",
       "      <td>Empleado_2</td>\n",
       "      <td>Cajero</td>\n",
       "      <td>tarde</td>\n",
       "      <td>400000</td>\n",
       "    </tr>\n",
       "    <tr>\n",
       "      <th>2</th>\n",
       "      <td>3</td>\n",
       "      <td>Empleado_3</td>\n",
       "      <td>Barista</td>\n",
       "      <td>mañana</td>\n",
       "      <td>420000</td>\n",
       "    </tr>\n",
       "    <tr>\n",
       "      <th>3</th>\n",
       "      <td>4</td>\n",
       "      <td>Empleado_4</td>\n",
       "      <td>Camarero</td>\n",
       "      <td>tarde</td>\n",
       "      <td>380000</td>\n",
       "    </tr>\n",
       "    <tr>\n",
       "      <th>4</th>\n",
       "      <td>5</td>\n",
       "      <td>Empleado_5</td>\n",
       "      <td>Camarero</td>\n",
       "      <td>mañana</td>\n",
       "      <td>380000</td>\n",
       "    </tr>\n",
       "    <tr>\n",
       "      <th>5</th>\n",
       "      <td>6</td>\n",
       "      <td>Empleado_6</td>\n",
       "      <td>Camarero</td>\n",
       "      <td>tarde</td>\n",
       "      <td>380000</td>\n",
       "    </tr>\n",
       "    <tr>\n",
       "      <th>6</th>\n",
       "      <td>7</td>\n",
       "      <td>Empleado_7</td>\n",
       "      <td>Camarero</td>\n",
       "      <td>mañana</td>\n",
       "      <td>380000</td>\n",
       "    </tr>\n",
       "    <tr>\n",
       "      <th>7</th>\n",
       "      <td>8</td>\n",
       "      <td>Empleado_8</td>\n",
       "      <td>Camarero</td>\n",
       "      <td>tarde</td>\n",
       "      <td>380000</td>\n",
       "    </tr>\n",
       "    <tr>\n",
       "      <th>8</th>\n",
       "      <td>9</td>\n",
       "      <td>Empleado_9</td>\n",
       "      <td>Camarero</td>\n",
       "      <td>mañana</td>\n",
       "      <td>380000</td>\n",
       "    </tr>\n",
       "    <tr>\n",
       "      <th>9</th>\n",
       "      <td>10</td>\n",
       "      <td>Empleado_10</td>\n",
       "      <td>Camarero</td>\n",
       "      <td>tarde</td>\n",
       "      <td>380000</td>\n",
       "    </tr>\n",
       "    <tr>\n",
       "      <th>10</th>\n",
       "      <td>11</td>\n",
       "      <td>Empleado_11</td>\n",
       "      <td>Camarero</td>\n",
       "      <td>mañana</td>\n",
       "      <td>380000</td>\n",
       "    </tr>\n",
       "  </tbody>\n",
       "</table>\n",
       "</div>"
      ],
      "text/plain": [
       "    empleado_id       nombre       rol   turno  sueldo_mensual\n",
       "0             1   Empleado_1  Cocinero  mañana          450000\n",
       "1             2   Empleado_2    Cajero   tarde          400000\n",
       "2             3   Empleado_3   Barista  mañana          420000\n",
       "3             4   Empleado_4  Camarero   tarde          380000\n",
       "4             5   Empleado_5  Camarero  mañana          380000\n",
       "5             6   Empleado_6  Camarero   tarde          380000\n",
       "6             7   Empleado_7  Camarero  mañana          380000\n",
       "7             8   Empleado_8  Camarero   tarde          380000\n",
       "8             9   Empleado_9  Camarero  mañana          380000\n",
       "9            10  Empleado_10  Camarero   tarde          380000\n",
       "10           11  Empleado_11  Camarero  mañana          380000"
      ]
     },
     "execution_count": 2,
     "metadata": {},
     "output_type": "execute_result"
    }
   ],
   "source": [
    "## Definimos la ruta del archivo\n",
    "ruta_empleado_csv = r'C:\\Users\\Fernando\\Desktop\\Ventas Café Especialidad\\Data\\empleados.csv'\n",
    "\n",
    "# Leemos el archivo\n",
    "df_empleados = pd.read_csv(ruta_empleado_csv)\n",
    "\n",
    "# Vemos la información\n",
    "print(\"Informe: \\n\")\n",
    "df_empleados.info()\n",
    "\n",
    "print(\"Cantidad de filas y columnas: \", df_empleados.shape)\n",
    "\n",
    "## Mostramos la tabla (los primeros 100)\n",
    "df_empleados.head(100)\n",
    "\n",
    "\n",
    "\n",
    "\n",
    "\n",
    "\n",
    "\n"
   ]
  },
  {
   "cell_type": "code",
   "execution_count": 3,
   "id": "f88f7491",
   "metadata": {},
   "outputs": [
    {
     "name": "stdout",
     "output_type": "stream",
     "text": [
      "Métricas y Estadísticas: \n"
     ]
    },
    {
     "data": {
      "application/vnd.microsoft.datawrangler.viewer.v0+json": {
       "columns": [
        {
         "name": "index",
         "rawType": "object",
         "type": "string"
        },
        {
         "name": "empleado_id",
         "rawType": "float64",
         "type": "float"
        },
        {
         "name": "sueldo_mensual",
         "rawType": "float64",
         "type": "float"
        }
       ],
       "ref": "00b19e48-ffeb-4b6d-b02a-b8ecc11aa35f",
       "rows": [
        [
         "count",
         "11.0",
         "11.0"
        ],
        [
         "mean",
         "6.0",
         "391818.1818181818"
        ],
        [
         "std",
         "3.3166247903554",
         "23159.525823376356"
        ],
        [
         "min",
         "1.0",
         "380000.0"
        ],
        [
         "25%",
         "3.5",
         "380000.0"
        ],
        [
         "50%",
         "6.0",
         "380000.0"
        ],
        [
         "75%",
         "8.5",
         "390000.0"
        ],
        [
         "max",
         "11.0",
         "450000.0"
        ]
       ],
       "shape": {
        "columns": 2,
        "rows": 8
       }
      },
      "text/html": [
       "<div>\n",
       "<style scoped>\n",
       "    .dataframe tbody tr th:only-of-type {\n",
       "        vertical-align: middle;\n",
       "    }\n",
       "\n",
       "    .dataframe tbody tr th {\n",
       "        vertical-align: top;\n",
       "    }\n",
       "\n",
       "    .dataframe thead th {\n",
       "        text-align: right;\n",
       "    }\n",
       "</style>\n",
       "<table border=\"1\" class=\"dataframe\">\n",
       "  <thead>\n",
       "    <tr style=\"text-align: right;\">\n",
       "      <th></th>\n",
       "      <th>empleado_id</th>\n",
       "      <th>sueldo_mensual</th>\n",
       "    </tr>\n",
       "  </thead>\n",
       "  <tbody>\n",
       "    <tr>\n",
       "      <th>count</th>\n",
       "      <td>11.000000</td>\n",
       "      <td>11.000000</td>\n",
       "    </tr>\n",
       "    <tr>\n",
       "      <th>mean</th>\n",
       "      <td>6.000000</td>\n",
       "      <td>391818.181818</td>\n",
       "    </tr>\n",
       "    <tr>\n",
       "      <th>std</th>\n",
       "      <td>3.316625</td>\n",
       "      <td>23159.525823</td>\n",
       "    </tr>\n",
       "    <tr>\n",
       "      <th>min</th>\n",
       "      <td>1.000000</td>\n",
       "      <td>380000.000000</td>\n",
       "    </tr>\n",
       "    <tr>\n",
       "      <th>25%</th>\n",
       "      <td>3.500000</td>\n",
       "      <td>380000.000000</td>\n",
       "    </tr>\n",
       "    <tr>\n",
       "      <th>50%</th>\n",
       "      <td>6.000000</td>\n",
       "      <td>380000.000000</td>\n",
       "    </tr>\n",
       "    <tr>\n",
       "      <th>75%</th>\n",
       "      <td>8.500000</td>\n",
       "      <td>390000.000000</td>\n",
       "    </tr>\n",
       "    <tr>\n",
       "      <th>max</th>\n",
       "      <td>11.000000</td>\n",
       "      <td>450000.000000</td>\n",
       "    </tr>\n",
       "  </tbody>\n",
       "</table>\n",
       "</div>"
      ],
      "text/plain": [
       "       empleado_id  sueldo_mensual\n",
       "count    11.000000       11.000000\n",
       "mean      6.000000   391818.181818\n",
       "std       3.316625    23159.525823\n",
       "min       1.000000   380000.000000\n",
       "25%       3.500000   380000.000000\n",
       "50%       6.000000   380000.000000\n",
       "75%       8.500000   390000.000000\n",
       "max      11.000000   450000.000000"
      ]
     },
     "execution_count": 3,
     "metadata": {},
     "output_type": "execute_result"
    }
   ],
   "source": [
    "# Métricas y estadísticas\n",
    "print(\"Métricas y Estadísticas: \")\n",
    "df_empleados.describe()"
   ]
  },
  {
   "cell_type": "markdown",
   "id": "cf8313e1",
   "metadata": {},
   "source": [
    "Transformación de tipo de datos"
   ]
  },
  {
   "cell_type": "code",
   "execution_count": 4,
   "id": "b8517af2",
   "metadata": {},
   "outputs": [],
   "source": [
    "# Convertimos a 'float' la columna \"sueldo_mensual\"\n",
    "df_empleados[\"sueldo_mensual\"] = df_empleados[\"sueldo_mensual\"].astype(float)\n",
    "\n",
    "# Guardamos el cambio en el archivo .csv\n",
    "df_empleados.to_csv(r'C:\\Users\\Fernando\\Desktop\\Ventas Café Especialidad\\Data\\empleados.csv', index=False)\n"
   ]
  },
  {
   "cell_type": "markdown",
   "id": "6ec25c7c",
   "metadata": {},
   "source": [
    "# _______________________________________________________________________________"
   ]
  },
  {
   "cell_type": "markdown",
   "id": "0372dd78",
   "metadata": {},
   "source": [
    "# Exploramos la tabla 'ventas'\n"
   ]
  },
  {
   "cell_type": "code",
   "execution_count": 2,
   "id": "c9b9dead",
   "metadata": {},
   "outputs": [
    {
     "name": "stderr",
     "output_type": "stream",
     "text": [
      "c:\\Users\\Fernando\\AppData\\Local\\Programs\\Python\\Python313\\Lib\\site-packages\\tqdm\\auto.py:21: TqdmWarning: IProgress not found. Please update jupyter and ipywidgets. See https://ipywidgets.readthedocs.io/en/stable/user_install.html\n",
      "  from .autonotebook import tqdm as notebook_tqdm\n",
      "c:\\Users\\Fernando\\AppData\\Local\\Programs\\Python\\Python313\\Lib\\site-packages\\sweetviz\\graph.py:8: UserWarning: pkg_resources is deprecated as an API. See https://setuptools.pypa.io/en/latest/pkg_resources.html. The pkg_resources package is slated for removal as early as 2025-11-30. Refrain from using this package or pin to Setuptools<81.\n",
      "  from pkg_resources import resource_filename\n"
     ]
    }
   ],
   "source": [
    "import pandas as pd\n",
    "import numpy as np\n",
    "import matplotlib.pyplot as plt\n",
    "import seaborn as sns\n",
    "# from ydata_profiling import ProfileReport\n",
    "import sweetviz as sv\n"
   ]
  },
  {
   "cell_type": "code",
   "execution_count": 3,
   "id": "c186fbaf",
   "metadata": {},
   "outputs": [
    {
     "name": "stdout",
     "output_type": "stream",
     "text": [
      "Informe: \n",
      "\n",
      "<class 'pandas.core.frame.DataFrame'>\n",
      "RangeIndex: 1215 entries, 0 to 1214\n",
      "Data columns (total 8 columns):\n",
      " #   Column        Non-Null Count  Dtype \n",
      "---  ------        --------------  ----- \n",
      " 0   ticket_id     1215 non-null   int64 \n",
      " 1   fecha         1215 non-null   object\n",
      " 2   hora          1215 non-null   object\n",
      " 3   servicio      1215 non-null   object\n",
      " 4   camarero      1215 non-null   object\n",
      " 5   productos     1215 non-null   object\n",
      " 6   cantidades    1215 non-null   object\n",
      " 7   total_ticket  1215 non-null   int64 \n",
      "dtypes: int64(2), object(6)\n",
      "memory usage: 76.1+ KB\n",
      "Cantidad de filas y columnas:  (1215, 8)\n"
     ]
    },
    {
     "data": {
      "application/vnd.microsoft.datawrangler.viewer.v0+json": {
       "columns": [
        {
         "name": "index",
         "rawType": "int64",
         "type": "integer"
        },
        {
         "name": "ticket_id",
         "rawType": "int64",
         "type": "integer"
        },
        {
         "name": "fecha",
         "rawType": "object",
         "type": "string"
        },
        {
         "name": "hora",
         "rawType": "object",
         "type": "string"
        },
        {
         "name": "servicio",
         "rawType": "object",
         "type": "string"
        },
        {
         "name": "camarero",
         "rawType": "object",
         "type": "string"
        },
        {
         "name": "productos",
         "rawType": "object",
         "type": "string"
        },
        {
         "name": "cantidades",
         "rawType": "object",
         "type": "string"
        },
        {
         "name": "total_ticket",
         "rawType": "int64",
         "type": "integer"
        }
       ],
       "ref": "fafe632c-8cbe-416c-881d-c560d8c849da",
       "rows": [
        [
         "0",
         "1",
         "2025-06-01",
         "08:00",
         "mesa",
         "Camarero_4",
         "Jugo",
         "1",
         "800"
        ],
        [
         "1",
         "2",
         "2025-06-01",
         "08:00",
         "mesa",
         "Camarero_1",
         "Café Espresso, Jugo, Tostado",
         "3, 2, 1",
         "5000"
        ],
        [
         "2",
         "3",
         "2025-06-01",
         "08:00",
         "mesa",
         "Camarero_1",
         "Latte",
         "3",
         "2850"
        ],
        [
         "3",
         "4",
         "2025-06-01",
         "08:00",
         "mesa",
         "Camarero_3",
         "Medialuna, Tostado, Latte",
         "3, 2, 1",
         "5050"
        ],
        [
         "4",
         "5",
         "2025-06-01",
         "08:00",
         "take_away",
         "Camarero_2",
         "Latte, Latte",
         "2, 1",
         "2850"
        ],
        [
         "5",
         "6",
         "2025-06-01",
         "08:00",
         "take_away",
         "Camarero_5",
         "Cappuccino",
         "2",
         "2000"
        ],
        [
         "6",
         "7",
         "2025-06-01",
         "08:00",
         "mesa",
         "Camarero_6",
         "Tostado, Café Espresso, Agua",
         "1, 3, 2",
         "4600"
        ],
        [
         "7",
         "8",
         "2025-06-01",
         "08:00",
         "mesa",
         "Camarero_7",
         "Café Espresso, Medialuna, Jugo",
         "1, 1, 1",
         "2000"
        ],
        [
         "8",
         "9",
         "2025-06-01",
         "08:00",
         "take_away",
         "Camarero_4",
         "Medialuna, Cappuccino",
         "2, 2",
         "3000"
        ],
        [
         "9",
         "10",
         "2025-06-01",
         "08:00",
         "take_away",
         "Camarero_4",
         "Agua, Medialuna, Medialuna",
         "1, 3, 3",
         "3600"
        ],
        [
         "10",
         "11",
         "2025-06-01",
         "08:00",
         "mesa",
         "Camarero_4",
         "Cappuccino, Agua",
         "3, 3",
         "4800"
        ],
        [
         "11",
         "12",
         "2025-06-01",
         "08:00",
         "take_away",
         "Camarero_6",
         "Latte",
         "1",
         "950"
        ],
        [
         "12",
         "13",
         "2025-06-01",
         "08:00",
         "take_away",
         "Camarero_6",
         "Café Espresso, Agua",
         "3, 3",
         "3900"
        ],
        [
         "13",
         "14",
         "2025-06-01",
         "08:00",
         "mesa",
         "Camarero_4",
         "Tostado, Agua, Medialuna",
         "1, 2, 1",
         "3000"
        ],
        [
         "14",
         "15",
         "2025-06-01",
         "08:00",
         "take_away",
         "Camarero_8",
         "Medialuna, Agua, Cappuccino",
         "1, 1, 3",
         "4100"
        ],
        [
         "15",
         "16",
         "2025-06-01",
         "12:00",
         "mesa",
         "Camarero_7",
         "Latte",
         "1",
         "950"
        ],
        [
         "16",
         "17",
         "2025-06-01",
         "12:00",
         "mesa",
         "Camarero_1",
         "Cappuccino, Agua",
         "3, 2",
         "4200"
        ],
        [
         "17",
         "18",
         "2025-06-01",
         "12:00",
         "mesa",
         "Camarero_7",
         "Agua, Jugo, Jugo",
         "2, 1, 2",
         "3600"
        ],
        [
         "18",
         "19",
         "2025-06-01",
         "12:00",
         "mesa",
         "Camarero_3",
         "Café Espresso, Jugo",
         "3, 2",
         "3700"
        ],
        [
         "19",
         "20",
         "2025-06-01",
         "12:00",
         "mesa",
         "Camarero_1",
         "Cappuccino, Medialuna, Medialuna",
         "1, 2, 1",
         "2500"
        ],
        [
         "20",
         "21",
         "2025-06-01",
         "12:00",
         "take_away",
         "Camarero_1",
         "Café Espresso, Agua",
         "2, 1",
         "2000"
        ],
        [
         "21",
         "22",
         "2025-06-01",
         "16:00",
         "mesa",
         "Camarero_3",
         "Jugo",
         "1",
         "800"
        ],
        [
         "22",
         "23",
         "2025-06-01",
         "16:00",
         "mesa",
         "Camarero_4",
         "Tostado, Tostado, Latte",
         "3, 2, 1",
         "7450"
        ],
        [
         "23",
         "24",
         "2025-06-01",
         "16:00",
         "take_away",
         "Camarero_8",
         "Agua, Medialuna",
         "2, 3",
         "2700"
        ],
        [
         "24",
         "25",
         "2025-06-01",
         "16:00",
         "mesa",
         "Camarero_1",
         "Latte",
         "2",
         "1900"
        ],
        [
         "25",
         "26",
         "2025-06-01",
         "16:00",
         "mesa",
         "Camarero_6",
         "Latte, Café Espresso, Medialuna",
         "1, 1, 1",
         "2150"
        ],
        [
         "26",
         "27",
         "2025-06-01",
         "16:00",
         "mesa",
         "Camarero_8",
         "Latte, Medialuna, Latte",
         "1, 3, 3",
         "5300"
        ],
        [
         "27",
         "28",
         "2025-06-01",
         "16:00",
         "mesa",
         "Camarero_7",
         "Jugo, Latte",
         "1, 3",
         "3650"
        ],
        [
         "28",
         "29",
         "2025-06-01",
         "16:00",
         "take_away",
         "Camarero_2",
         "Cappuccino, Agua",
         "1, 3",
         "2800"
        ],
        [
         "29",
         "30",
         "2025-06-01",
         "20:00",
         "take_away",
         "Camarero_3",
         "Cappuccino, Agua, Latte",
         "1, 3, 2",
         "4700"
        ],
        [
         "30",
         "31",
         "2025-06-01",
         "20:00",
         "take_away",
         "Camarero_2",
         "Latte",
         "1",
         "950"
        ],
        [
         "31",
         "32",
         "2025-06-01",
         "20:00",
         "take_away",
         "Camarero_3",
         "Café Espresso, Medialuna, Tostado",
         "1, 1, 1",
         "2500"
        ],
        [
         "32",
         "33",
         "2025-06-01",
         "20:00",
         "take_away",
         "Camarero_7",
         "Tostado, Agua",
         "1, 1",
         "1900"
        ],
        [
         "33",
         "34",
         "2025-06-01",
         "20:00",
         "mesa",
         "Camarero_7",
         "Latte, Jugo",
         "2, 2",
         "3500"
        ],
        [
         "34",
         "35",
         "2025-06-02",
         "08:00",
         "take_away",
         "Camarero_1",
         "Latte",
         "1",
         "950"
        ],
        [
         "35",
         "36",
         "2025-06-02",
         "08:00",
         "mesa",
         "Camarero_2",
         "Cappuccino, Café Espresso, Tostado",
         "3, 1, 1",
         "5000"
        ],
        [
         "36",
         "37",
         "2025-06-02",
         "08:00",
         "mesa",
         "Camarero_4",
         "Medialuna",
         "3",
         "1500"
        ],
        [
         "37",
         "38",
         "2025-06-02",
         "08:00",
         "take_away",
         "Camarero_4",
         "Agua",
         "3",
         "1800"
        ],
        [
         "38",
         "39",
         "2025-06-02",
         "08:00",
         "mesa",
         "Camarero_6",
         "Café Espresso, Medialuna, Tostado",
         "2, 2, 1",
         "3700"
        ],
        [
         "39",
         "40",
         "2025-06-02",
         "08:00",
         "mesa",
         "Camarero_6",
         "Cappuccino, Medialuna",
         "2, 2",
         "3000"
        ],
        [
         "40",
         "41",
         "2025-06-02",
         "08:00",
         "mesa",
         "Camarero_2",
         "Tostado",
         "3",
         "3900"
        ],
        [
         "41",
         "42",
         "2025-06-02",
         "08:00",
         "mesa",
         "Camarero_5",
         "Latte, Latte, Agua",
         "1, 1, 2",
         "3100"
        ],
        [
         "42",
         "43",
         "2025-06-02",
         "08:00",
         "mesa",
         "Camarero_1",
         "Jugo, Medialuna",
         "3, 3",
         "3900"
        ],
        [
         "43",
         "44",
         "2025-06-02",
         "08:00",
         "take_away",
         "Camarero_3",
         "Café Espresso, Agua, Latte",
         "1, 3, 3",
         "5350"
        ],
        [
         "44",
         "45",
         "2025-06-02",
         "08:00",
         "take_away",
         "Camarero_5",
         "Medialuna, Jugo",
         "1, 3",
         "2900"
        ],
        [
         "45",
         "46",
         "2025-06-02",
         "08:00",
         "take_away",
         "Camarero_7",
         "Agua, Jugo",
         "1, 3",
         "3000"
        ],
        [
         "46",
         "47",
         "2025-06-02",
         "08:00",
         "take_away",
         "Camarero_5",
         "Café Espresso",
         "1",
         "700"
        ],
        [
         "47",
         "48",
         "2025-06-02",
         "12:00",
         "take_away",
         "Camarero_1",
         "Medialuna, Tostado, Café Espresso",
         "3, 1, 3",
         "4900"
        ],
        [
         "48",
         "49",
         "2025-06-02",
         "12:00",
         "take_away",
         "Camarero_4",
         "Tostado, Tostado, Café Espresso",
         "2, 1, 2",
         "5300"
        ],
        [
         "49",
         "50",
         "2025-06-02",
         "12:00",
         "mesa",
         "Camarero_3",
         "Café Espresso, Jugo, Agua",
         "2, 3, 3",
         "5600"
        ]
       ],
       "shape": {
        "columns": 8,
        "rows": 1215
       }
      },
      "text/html": [
       "<div>\n",
       "<style scoped>\n",
       "    .dataframe tbody tr th:only-of-type {\n",
       "        vertical-align: middle;\n",
       "    }\n",
       "\n",
       "    .dataframe tbody tr th {\n",
       "        vertical-align: top;\n",
       "    }\n",
       "\n",
       "    .dataframe thead th {\n",
       "        text-align: right;\n",
       "    }\n",
       "</style>\n",
       "<table border=\"1\" class=\"dataframe\">\n",
       "  <thead>\n",
       "    <tr style=\"text-align: right;\">\n",
       "      <th></th>\n",
       "      <th>ticket_id</th>\n",
       "      <th>fecha</th>\n",
       "      <th>hora</th>\n",
       "      <th>servicio</th>\n",
       "      <th>camarero</th>\n",
       "      <th>productos</th>\n",
       "      <th>cantidades</th>\n",
       "      <th>total_ticket</th>\n",
       "    </tr>\n",
       "  </thead>\n",
       "  <tbody>\n",
       "    <tr>\n",
       "      <th>0</th>\n",
       "      <td>1</td>\n",
       "      <td>2025-06-01</td>\n",
       "      <td>08:00</td>\n",
       "      <td>mesa</td>\n",
       "      <td>Camarero_4</td>\n",
       "      <td>Jugo</td>\n",
       "      <td>1</td>\n",
       "      <td>800</td>\n",
       "    </tr>\n",
       "    <tr>\n",
       "      <th>1</th>\n",
       "      <td>2</td>\n",
       "      <td>2025-06-01</td>\n",
       "      <td>08:00</td>\n",
       "      <td>mesa</td>\n",
       "      <td>Camarero_1</td>\n",
       "      <td>Café Espresso, Jugo, Tostado</td>\n",
       "      <td>3, 2, 1</td>\n",
       "      <td>5000</td>\n",
       "    </tr>\n",
       "    <tr>\n",
       "      <th>2</th>\n",
       "      <td>3</td>\n",
       "      <td>2025-06-01</td>\n",
       "      <td>08:00</td>\n",
       "      <td>mesa</td>\n",
       "      <td>Camarero_1</td>\n",
       "      <td>Latte</td>\n",
       "      <td>3</td>\n",
       "      <td>2850</td>\n",
       "    </tr>\n",
       "    <tr>\n",
       "      <th>3</th>\n",
       "      <td>4</td>\n",
       "      <td>2025-06-01</td>\n",
       "      <td>08:00</td>\n",
       "      <td>mesa</td>\n",
       "      <td>Camarero_3</td>\n",
       "      <td>Medialuna, Tostado, Latte</td>\n",
       "      <td>3, 2, 1</td>\n",
       "      <td>5050</td>\n",
       "    </tr>\n",
       "    <tr>\n",
       "      <th>4</th>\n",
       "      <td>5</td>\n",
       "      <td>2025-06-01</td>\n",
       "      <td>08:00</td>\n",
       "      <td>take_away</td>\n",
       "      <td>Camarero_2</td>\n",
       "      <td>Latte, Latte</td>\n",
       "      <td>2, 1</td>\n",
       "      <td>2850</td>\n",
       "    </tr>\n",
       "    <tr>\n",
       "      <th>...</th>\n",
       "      <td>...</td>\n",
       "      <td>...</td>\n",
       "      <td>...</td>\n",
       "      <td>...</td>\n",
       "      <td>...</td>\n",
       "      <td>...</td>\n",
       "      <td>...</td>\n",
       "      <td>...</td>\n",
       "    </tr>\n",
       "    <tr>\n",
       "      <th>1210</th>\n",
       "      <td>1211</td>\n",
       "      <td>2025-06-30</td>\n",
       "      <td>20:00</td>\n",
       "      <td>mesa</td>\n",
       "      <td>Camarero_1</td>\n",
       "      <td>Tostado</td>\n",
       "      <td>3</td>\n",
       "      <td>3900</td>\n",
       "    </tr>\n",
       "    <tr>\n",
       "      <th>1211</th>\n",
       "      <td>1212</td>\n",
       "      <td>2025-06-30</td>\n",
       "      <td>20:00</td>\n",
       "      <td>take_away</td>\n",
       "      <td>Camarero_6</td>\n",
       "      <td>Latte, Latte</td>\n",
       "      <td>1, 1</td>\n",
       "      <td>1900</td>\n",
       "    </tr>\n",
       "    <tr>\n",
       "      <th>1212</th>\n",
       "      <td>1213</td>\n",
       "      <td>2025-06-30</td>\n",
       "      <td>20:00</td>\n",
       "      <td>mesa</td>\n",
       "      <td>Camarero_6</td>\n",
       "      <td>Tostado, Medialuna, Tostado</td>\n",
       "      <td>3, 2, 3</td>\n",
       "      <td>8800</td>\n",
       "    </tr>\n",
       "    <tr>\n",
       "      <th>1213</th>\n",
       "      <td>1214</td>\n",
       "      <td>2025-06-30</td>\n",
       "      <td>20:00</td>\n",
       "      <td>take_away</td>\n",
       "      <td>Camarero_4</td>\n",
       "      <td>Cappuccino, Café Espresso</td>\n",
       "      <td>1, 2</td>\n",
       "      <td>2400</td>\n",
       "    </tr>\n",
       "    <tr>\n",
       "      <th>1214</th>\n",
       "      <td>1215</td>\n",
       "      <td>2025-06-30</td>\n",
       "      <td>20:00</td>\n",
       "      <td>mesa</td>\n",
       "      <td>Camarero_6</td>\n",
       "      <td>Latte, Latte, Medialuna</td>\n",
       "      <td>1, 2, 3</td>\n",
       "      <td>4350</td>\n",
       "    </tr>\n",
       "  </tbody>\n",
       "</table>\n",
       "<p>1215 rows × 8 columns</p>\n",
       "</div>"
      ],
      "text/plain": [
       "      ticket_id       fecha   hora   servicio    camarero  \\\n",
       "0             1  2025-06-01  08:00       mesa  Camarero_4   \n",
       "1             2  2025-06-01  08:00       mesa  Camarero_1   \n",
       "2             3  2025-06-01  08:00       mesa  Camarero_1   \n",
       "3             4  2025-06-01  08:00       mesa  Camarero_3   \n",
       "4             5  2025-06-01  08:00  take_away  Camarero_2   \n",
       "...         ...         ...    ...        ...         ...   \n",
       "1210       1211  2025-06-30  20:00       mesa  Camarero_1   \n",
       "1211       1212  2025-06-30  20:00  take_away  Camarero_6   \n",
       "1212       1213  2025-06-30  20:00       mesa  Camarero_6   \n",
       "1213       1214  2025-06-30  20:00  take_away  Camarero_4   \n",
       "1214       1215  2025-06-30  20:00       mesa  Camarero_6   \n",
       "\n",
       "                         productos cantidades  total_ticket  \n",
       "0                             Jugo          1           800  \n",
       "1     Café Espresso, Jugo, Tostado    3, 2, 1          5000  \n",
       "2                            Latte          3          2850  \n",
       "3        Medialuna, Tostado, Latte    3, 2, 1          5050  \n",
       "4                     Latte, Latte       2, 1          2850  \n",
       "...                            ...        ...           ...  \n",
       "1210                       Tostado          3          3900  \n",
       "1211                  Latte, Latte       1, 1          1900  \n",
       "1212   Tostado, Medialuna, Tostado    3, 2, 3          8800  \n",
       "1213     Cappuccino, Café Espresso       1, 2          2400  \n",
       "1214       Latte, Latte, Medialuna    1, 2, 3          4350  \n",
       "\n",
       "[1215 rows x 8 columns]"
      ]
     },
     "execution_count": 3,
     "metadata": {},
     "output_type": "execute_result"
    }
   ],
   "source": [
    "## Definimos la ruta del archivo\n",
    "ruta_ventas_csv = r'C:\\Users\\Fernando\\Desktop\\Ventas Café Especialidad\\Data\\ventas.csv'\n",
    "\n",
    "# Leemos el archivo\n",
    "df_ventas = pd.read_csv(ruta_ventas_csv)\n",
    "\n",
    "# Vemos la información\n",
    "print(\"Informe: \\n\")\n",
    "df_ventas.info()\n",
    "\n",
    "print(\"Cantidad de filas y columnas: \", df_ventas.shape)\n",
    "\n",
    "## Mostramos la tabla (los primeros 100)\n",
    "df_ventas.head(1250)"
   ]
  },
  {
   "cell_type": "markdown",
   "id": "8767919e",
   "metadata": {},
   "source": [
    "Los tipos de datos estan bien, pero cambiaremos la columna 'fecha' a \"datetime\" y 'total_ticket' a \"float\""
   ]
  },
  {
   "cell_type": "code",
   "execution_count": 8,
   "id": "fa750015",
   "metadata": {},
   "outputs": [],
   "source": [
    "\n",
    "## Cambiamos los tipo de datos\n",
    "df_ventas[\"fecha\"] = pd.to_datetime(df_ventas[\"fecha\"])\n",
    "df_ventas[\"total_ticket\"] = df_ventas[\"total_ticket\"].astype(float)\n",
    "\n",
    "# Guardamos el cambio en el archivo .csv\n",
    "df_ventas.to_csv(r'C:\\Users\\Fernando\\Desktop\\Ventas Café Especialidad\\Data\\ventas.csv', index=False)"
   ]
  },
  {
   "cell_type": "markdown",
   "id": "d826c5fb",
   "metadata": {},
   "source": [
    "Primeras medidas y visualizaciones de 'ventas'"
   ]
  },
  {
   "cell_type": "markdown",
   "id": "611eba0d",
   "metadata": {},
   "source": [
    "📊 Medidas iniciales\n",
    "Vamos a calcular:\n",
    "\n",
    "Ingresos totales\n",
    "\n",
    "Ticket promedio\n",
    "\n",
    "Ventas por tipo de servicio\n",
    "\n",
    "Ventas por camarero\n",
    "\n",
    "Ventas por franja horaria\n",
    "\n",
    "Evolución diaria de ingresos"
   ]
  },
  {
   "cell_type": "code",
   "execution_count": 9,
   "id": "07d797e2",
   "metadata": {},
   "outputs": [
    {
     "name": "stdout",
     "output_type": "stream",
     "text": [
      "Ingresos totales: $4,131,900.00\n",
      "Ticket promedio: $3,400.74\n"
     ]
    },
    {
     "name": "stderr",
     "output_type": "stream",
     "text": [
      "C:\\Users\\Fernando\\AppData\\Local\\Temp\\ipykernel_4172\\2819364222.py:24: FutureWarning: \n",
      "\n",
      "Passing `palette` without assigning `hue` is deprecated and will be removed in v0.14.0. Assign the `x` variable to `hue` and set `legend=False` for the same effect.\n",
      "\n",
      "  sns.barplot(data=df_ventas, x=\"servicio\", y=\"total_ticket\", estimator=sum, palette=\"viridis\")\n"
     ]
    },
    {
     "data": {
      "image/png": "[encoded data removed]",
      "text/plain": [
       "<Figure size 640x480 with 1 Axes>"
      ]
     },
     "metadata": {},
     "output_type": "display_data"
    },
    {
     "name": "stderr",
     "output_type": "stream",
     "text": [
      "C:\\Users\\Fernando\\AppData\\Local\\Temp\\ipykernel_4172\\2819364222.py:32: FutureWarning: \n",
      "\n",
      "Passing `palette` without assigning `hue` is deprecated and will be removed in v0.14.0. Assign the `x` variable to `hue` and set `legend=False` for the same effect.\n",
      "\n",
      "  sns.barplot(data=df_ventas, x=\"camarero\", y=\"total_ticket\", estimator=sum, palette=\"crest\")\n"
     ]
    },
    {
     "data": {
      "image/png": "[encoded data removed]",
      "text/plain": [
       "<Figure size 640x480 with 1 Axes>"
      ]
     },
     "metadata": {},
     "output_type": "display_data"
    },
    {
     "name": "stderr",
     "output_type": "stream",
     "text": [
      "C:\\Users\\Fernando\\AppData\\Local\\Temp\\ipykernel_4172\\2819364222.py:41: FutureWarning: \n",
      "\n",
      "Passing `palette` without assigning `hue` is deprecated and will be removed in v0.14.0. Assign the `x` variable to `hue` and set `legend=False` for the same effect.\n",
      "\n",
      "  sns.barplot(data=df_ventas, x=\"hora\", y=\"total_ticket\", estimator=sum, palette=\"mako\")\n"
     ]
    },
    {
     "data": {
      "image/png": "[encoded data removed]",
      "text/plain": [
       "<Figure size 640x480 with 1 Axes>"
      ]
     },
     "metadata": {},
     "output_type": "display_data"
    },
    {
     "data": {
      "image/png": "[encoded data removed]",
      "text/plain": [
       "<Figure size 640x480 with 1 Axes>"
      ]
     },
     "metadata": {},
     "output_type": "display_data"
    }
   ],
   "source": [
    "import pandas as pd\n",
    "import seaborn as sns\n",
    "import matplotlib.pyplot as plt\n",
    "\n",
    "\n",
    "## Definimos la ruta del archivo\n",
    "ruta_ventas_csv = r'C:\\Users\\Fernando\\Desktop\\Ventas Café Especialidad\\Data\\ventas.csv'\n",
    "\n",
    "# Cargar datos\n",
    "df_ventas = pd.read_csv(ruta_ventas_csv)\n",
    "\n",
    "# ====================\n",
    "# 1️⃣ Medidas iniciales\n",
    "# ====================\n",
    "ingresos_totales = df_ventas[\"total_ticket\"].sum()\n",
    "ticket_promedio = df_ventas[\"total_ticket\"].mean()\n",
    "\n",
    "print(f\"Ingresos totales: ${ingresos_totales:,.2f}\")\n",
    "print(f\"Ticket promedio: ${ticket_promedio:,.2f}\")\n",
    "\n",
    "# ===================================\n",
    "# 2️⃣ Visualización: ventas por servicio\n",
    "# ===================================\n",
    "sns.barplot(data=df_ventas, x=\"servicio\", y=\"total_ticket\", estimator=sum, palette=\"viridis\")\n",
    "plt.title(\"Ventas totales por tipo de servicio\")\n",
    "plt.ylabel(\"Ingresos ($)\")\n",
    "plt.show()\n",
    "\n",
    "# ===================================\n",
    "# 3️⃣ Visualización: ventas por camarero\n",
    "# ===================================\n",
    "sns.barplot(data=df_ventas, x=\"camarero\", y=\"total_ticket\", estimator=sum, palette=\"crest\")\n",
    "plt.title(\"Ventas totales por camarero\")\n",
    "plt.ylabel(\"Ingresos ($)\")\n",
    "plt.xticks(rotation=45)\n",
    "plt.show()\n",
    "\n",
    "# ===================================\n",
    "# 4️⃣ Visualización: ventas por franja horaria\n",
    "# ===================================\n",
    "sns.barplot(data=df_ventas, x=\"hora\", y=\"total_ticket\", estimator=sum, palette=\"mako\")\n",
    "plt.title(\"Ventas totales por franja horaria\")\n",
    "plt.ylabel(\"Ingresos ($)\")\n",
    "plt.show()\n",
    "\n",
    "# ===================================\n",
    "# 5️⃣ Evolución diaria de ingresos\n",
    "# ===================================\n",
    "ventas_diarias = df_ventas.groupby(\"fecha\")[\"total_ticket\"].sum().reset_index()\n",
    "sns.lineplot(data=ventas_diarias, x=\"fecha\", y=\"total_ticket\", marker=\"o\")\n",
    "plt.title(\"Evolución diaria de ingresos\")\n",
    "plt.ylabel(\"Ingresos ($)\")\n",
    "plt.xticks(rotation=45)\n",
    "plt.show()\n"
   ]
  },
  {
   "cell_type": "markdown",
   "id": "8b81c2ef",
   "metadata": {},
   "source": [
    "KPIs"
   ]
  },
  {
   "cell_type": "code",
   "execution_count": 11,
   "id": "d9edcfc7",
   "metadata": {},
   "outputs": [
    {
     "name": "stdout",
     "output_type": "stream",
     "text": [
      "📈 Ingresos totales: $4,131,900.00\n",
      "💰 Ticket promedio: $3,400.74\n",
      "🎫 Total tickets: 1215\n",
      "\n",
      "Ventas por servicio:\n",
      " servicio\n",
      "mesa         2048450.0\n",
      "take_away    2083450.0\n",
      "Name: total_ticket, dtype: float64\n",
      "\n",
      "Top camareros:\n",
      " camarero\n",
      "Camarero_3    597950.0\n",
      "Camarero_2    561850.0\n",
      "Camarero_6    517700.0\n",
      "Camarero_7    502450.0\n",
      "Camarero_1    501050.0\n",
      "Camarero_4    498700.0\n",
      "Camarero_5    493150.0\n",
      "Camarero_8    459050.0\n",
      "Name: total_ticket, dtype: float64\n",
      "\n",
      "📅 Promedio diario de ingresos: $137,730.00\n",
      "🏆 Día con mayores ingresos: 2025-06-15\n"
     ]
    }
   ],
   "source": [
    "# Ingresos totales\n",
    "ingresos_totales = df_ventas[\"total_ticket\"].sum()\n",
    "\n",
    "# Ticket promedio\n",
    "ticket_promedio = df_ventas[\"total_ticket\"].mean()\n",
    "\n",
    "# Total tickets\n",
    "cantidad_tickets = df_ventas.shape[0]\n",
    "\n",
    "# Ingresos por servicio\n",
    "ingresos_por_servicio = df_ventas.groupby(\"servicio\")[\"total_ticket\"].sum()\n",
    "\n",
    "# Ingresos por camarero\n",
    "ingresos_por_camarero = df_ventas.groupby(\"camarero\")[\"total_ticket\"].sum().sort_values(ascending=False)\n",
    "\n",
    "# Promedio diario\n",
    "promedio_diario = df_ventas.groupby(\"fecha\")[\"total_ticket\"].sum().mean()\n",
    "\n",
    "# Día de mayores ingresos\n",
    "dia_max_ingresos = df_ventas.groupby(\"fecha\")[\"total_ticket\"].sum().idxmax()\n",
    "\n",
    "# Mostrar resultados\n",
    "print(f\"📈 Ingresos totales: ${ingresos_totales:,.2f}\")\n",
    "print(f\"💰 Ticket promedio: ${ticket_promedio:,.2f}\")\n",
    "print(f\"🎫 Total tickets: {cantidad_tickets}\")\n",
    "print(\"\\nVentas por servicio:\\n\", ingresos_por_servicio)\n",
    "print(\"\\nTop camareros:\\n\", ingresos_por_camarero)\n",
    "print(f\"\\n📅 Promedio diario de ingresos: ${promedio_diario:,.2f}\")\n",
    "print(f\"🏆 Día con mayores ingresos: {dia_max_ingresos}\")\n"
   ]
  },
  {
   "cell_type": "markdown",
   "id": "31ec14e3",
   "metadata": {},
   "source": [
    "# ____________________________________________________"
   ]
  },
  {
   "cell_type": "markdown",
   "id": "83056bb6",
   "metadata": {},
   "source": [
    "Exploramos la tabla 'costos' "
   ]
  },
  {
   "cell_type": "code",
   "execution_count": 13,
   "id": "b2be5759",
   "metadata": {},
   "outputs": [
    {
     "name": "stdout",
     "output_type": "stream",
     "text": [
      "Informe: \n",
      "\n",
      "<class 'pandas.core.frame.DataFrame'>\n",
      "RangeIndex: 7 entries, 0 to 6\n",
      "Data columns (total 2 columns):\n",
      " #   Column     Non-Null Count  Dtype \n",
      "---  ------     --------------  ----- \n",
      " 0   categoria  7 non-null      object\n",
      " 1   monto_ARS  7 non-null      int64 \n",
      "dtypes: int64(1), object(1)\n",
      "memory usage: 244.0+ bytes\n",
      "\n",
      "\n",
      "Cantidad de filas y columnas:  (7, 2)\n",
      "\n",
      "\n"
     ]
    },
    {
     "data": {
      "application/vnd.microsoft.datawrangler.viewer.v0+json": {
       "columns": [
        {
         "name": "index",
         "rawType": "int64",
         "type": "integer"
        },
        {
         "name": "categoria",
         "rawType": "object",
         "type": "string"
        },
        {
         "name": "monto_ARS",
         "rawType": "int64",
         "type": "integer"
        }
       ],
       "ref": "040e0a3b-3a1f-4740-980a-1e9e79143cfd",
       "rows": [
        [
         "0",
         "Alquiler",
         "600000"
        ],
        [
         "1",
         "Luz",
         "80000"
        ],
        [
         "2",
         "Agua",
         "30000"
        ],
        [
         "3",
         "Gas",
         "40000"
        ],
        [
         "4",
         "Marketing",
         "50000"
        ],
        [
         "5",
         "Limpieza",
         "60000"
        ],
        [
         "6",
         "Proveedores (mercadería)",
         "900000"
        ]
       ],
       "shape": {
        "columns": 2,
        "rows": 7
       }
      },
      "text/html": [
       "<div>\n",
       "<style scoped>\n",
       "    .dataframe tbody tr th:only-of-type {\n",
       "        vertical-align: middle;\n",
       "    }\n",
       "\n",
       "    .dataframe tbody tr th {\n",
       "        vertical-align: top;\n",
       "    }\n",
       "\n",
       "    .dataframe thead th {\n",
       "        text-align: right;\n",
       "    }\n",
       "</style>\n",
       "<table border=\"1\" class=\"dataframe\">\n",
       "  <thead>\n",
       "    <tr style=\"text-align: right;\">\n",
       "      <th></th>\n",
       "      <th>categoria</th>\n",
       "      <th>monto_ARS</th>\n",
       "    </tr>\n",
       "  </thead>\n",
       "  <tbody>\n",
       "    <tr>\n",
       "      <th>0</th>\n",
       "      <td>Alquiler</td>\n",
       "      <td>600000</td>\n",
       "    </tr>\n",
       "    <tr>\n",
       "      <th>1</th>\n",
       "      <td>Luz</td>\n",
       "      <td>80000</td>\n",
       "    </tr>\n",
       "    <tr>\n",
       "      <th>2</th>\n",
       "      <td>Agua</td>\n",
       "      <td>30000</td>\n",
       "    </tr>\n",
       "    <tr>\n",
       "      <th>3</th>\n",
       "      <td>Gas</td>\n",
       "      <td>40000</td>\n",
       "    </tr>\n",
       "    <tr>\n",
       "      <th>4</th>\n",
       "      <td>Marketing</td>\n",
       "      <td>50000</td>\n",
       "    </tr>\n",
       "    <tr>\n",
       "      <th>5</th>\n",
       "      <td>Limpieza</td>\n",
       "      <td>60000</td>\n",
       "    </tr>\n",
       "    <tr>\n",
       "      <th>6</th>\n",
       "      <td>Proveedores (mercadería)</td>\n",
       "      <td>900000</td>\n",
       "    </tr>\n",
       "  </tbody>\n",
       "</table>\n",
       "</div>"
      ],
      "text/plain": [
       "                  categoria  monto_ARS\n",
       "0                  Alquiler     600000\n",
       "1                       Luz      80000\n",
       "2                      Agua      30000\n",
       "3                       Gas      40000\n",
       "4                 Marketing      50000\n",
       "5                  Limpieza      60000\n",
       "6  Proveedores (mercadería)     900000"
      ]
     },
     "execution_count": 13,
     "metadata": {},
     "output_type": "execute_result"
    }
   ],
   "source": [
    "ruta_costos_csv = r'C:\\Users\\Fernando\\Desktop\\Ventas Café Especialidad\\Data\\costos.csv'\n",
    "\n",
    "df_costos = pd.read_csv(ruta_costos_csv)\n",
    "\n",
    "# Vemos la información\n",
    "print(\"Informe: \\n\")\n",
    "df_costos.info()\n",
    "\n",
    "print(\"\\n\")\n",
    "\n",
    "print(\"Cantidad de filas y columnas: \", df_costos.shape)\n",
    "\n",
    "print(\"\\n\")\n",
    "\n",
    "## Mostramos la tabla (los primeros 100)\n",
    "df_costos.head(3000)\n",
    "\n"
   ]
  },
  {
   "cell_type": "markdown",
   "id": "90d62947",
   "metadata": {},
   "source": [
    "Primeras metricas y graficos"
   ]
  },
  {
   "cell_type": "code",
   "execution_count": 17,
   "id": "4851e115",
   "metadata": {},
   "outputs": [
    {
     "name": "stdout",
     "output_type": "stream",
     "text": [
      "💰 Costo total mensual: $1,760,000.00\n",
      "🏆 Categoría más costosa: Proveedores (mercadería)\n"
     ]
    },
    {
     "name": "stderr",
     "output_type": "stream",
     "text": [
      "C:\\Users\\Fernando\\AppData\\Local\\Temp\\ipykernel_4172\\400620721.py:11: FutureWarning: \n",
      "\n",
      "Passing `palette` without assigning `hue` is deprecated and will be removed in v0.14.0. Assign the `x` variable to `hue` and set `legend=False` for the same effect.\n",
      "\n",
      "  sns.barplot(data=df_costos, x=\"categoria\", y=\"monto_ARS\", palette=\"crest\")\n"
     ]
    },
    {
     "data": {
      "image/png": "[encoded data removed]",
      "text/plain": [
       "<Figure size 640x480 with 1 Axes>"
      ]
     },
     "metadata": {},
     "output_type": "display_data"
    },
    {
     "data": {
      "image/png": "[encoded data removed]",
      "text/plain": [
       "<Figure size 640x480 with 1 Axes>"
      ]
     },
     "metadata": {},
     "output_type": "display_data"
    }
   ],
   "source": [
    "# =====================\n",
    "# 2️⃣ Medidas - COSTOS\n",
    "# =====================\n",
    "costo_total_mensual = df_costos[\"monto_ARS\"].sum()\n",
    "categoria_mas_costosa = df_costos.loc[df_costos[\"monto_ARS\"].idxmax(), \"categoria\"]\n",
    "\n",
    "print(f\"💰 Costo total mensual: ${costo_total_mensual:,.2f}\")\n",
    "print(f\"🏆 Categoría más costosa: {categoria_mas_costosa}\")\n",
    "\n",
    "# === Gráficos COSTOS ===\n",
    "sns.barplot(data=df_costos, x=\"categoria\", y=\"monto_ARS\", palette=\"crest\")\n",
    "plt.title(\"Costos por categoría\")\n",
    "plt.xticks(rotation=45)\n",
    "plt.show()\n",
    "\n",
    "# Gráfico de torta\n",
    "plt.pie(df_costos[\"monto_ARS\"], labels=df_costos[\"categoria\"], autopct=\"%1.1f%%\", startangle=140)\n",
    "plt.title(\"Distribución porcentual de costos\")\n",
    "plt.show()\n"
   ]
  },
  {
   "cell_type": "markdown",
   "id": "58c6a765",
   "metadata": {},
   "source": [
    "# _____________________________________________________-"
   ]
  },
  {
   "cell_type": "markdown",
   "id": "0db43834",
   "metadata": {},
   "source": [
    "Explorando la tabla 'stock'"
   ]
  },
  {
   "cell_type": "code",
   "execution_count": 18,
   "id": "1d6ae074",
   "metadata": {},
   "outputs": [
    {
     "name": "stdout",
     "output_type": "stream",
     "text": [
      "Informe: \n",
      "\n",
      "<class 'pandas.core.frame.DataFrame'>\n",
      "RangeIndex: 7 entries, 0 to 6\n",
      "Data columns (total 6 columns):\n",
      " #   Column         Non-Null Count  Dtype \n",
      "---  ------         --------------  ----- \n",
      " 0   producto       7 non-null      object\n",
      " 1   stock_inicial  7 non-null      int64 \n",
      " 2   compras_mes    7 non-null      int64 \n",
      " 3   ventas_mes     7 non-null      int64 \n",
      " 4   mermas_mes     7 non-null      int64 \n",
      " 5   stock_final    7 non-null      int64 \n",
      "dtypes: int64(5), object(1)\n",
      "memory usage: 468.0+ bytes\n",
      "\n",
      "\n",
      "Cantidad de filas y columnas:  (7, 6)\n",
      "\n",
      "\n",
      "\n",
      "\n"
     ]
    },
    {
     "data": {
      "application/vnd.microsoft.datawrangler.viewer.v0+json": {
       "columns": [
        {
         "name": "index",
         "rawType": "object",
         "type": "string"
        },
        {
         "name": "stock_inicial",
         "rawType": "float64",
         "type": "float"
        },
        {
         "name": "compras_mes",
         "rawType": "float64",
         "type": "float"
        },
        {
         "name": "ventas_mes",
         "rawType": "float64",
         "type": "float"
        },
        {
         "name": "mermas_mes",
         "rawType": "float64",
         "type": "float"
        },
        {
         "name": "stock_final",
         "rawType": "float64",
         "type": "float"
        }
       ],
       "ref": "079af7f3-5762-479d-ade1-d65562073f3c",
       "rows": [
        [
         "count",
         "7.0",
         "7.0",
         "7.0",
         "7.0",
         "7.0"
        ],
        [
         "mean",
         "312.57142857142856",
         "156.71428571428572",
         "291.57142857142856",
         "4.857142857142857",
         "172.85714285714286"
        ],
        [
         "std",
         "85.53139217631762",
         "48.15846857239229",
         "62.64678002594425",
         "3.236694374850748",
         "116.0451472077837"
        ],
        [
         "min",
         "203.0",
         "107.0",
         "199.0",
         "0.0",
         "-60.0"
        ],
        [
         "25%",
         "249.5",
         "123.5",
         "252.0",
         "3.0",
         "150.5"
        ],
        [
         "50%",
         "305.0",
         "136.0",
         "299.0",
         "6.0",
         "194.0"
        ],
        [
         "75%",
         "388.5",
         "182.5",
         "328.0",
         "6.5",
         "239.0"
        ],
        [
         "max",
         "404.0",
         "242.0",
         "383.0",
         "9.0",
         "297.0"
        ]
       ],
       "shape": {
        "columns": 5,
        "rows": 8
       }
      },
      "text/html": [
       "<div>\n",
       "<style scoped>\n",
       "    .dataframe tbody tr th:only-of-type {\n",
       "        vertical-align: middle;\n",
       "    }\n",
       "\n",
       "    .dataframe tbody tr th {\n",
       "        vertical-align: top;\n",
       "    }\n",
       "\n",
       "    .dataframe thead th {\n",
       "        text-align: right;\n",
       "    }\n",
       "</style>\n",
       "<table border=\"1\" class=\"dataframe\">\n",
       "  <thead>\n",
       "    <tr style=\"text-align: right;\">\n",
       "      <th></th>\n",
       "      <th>stock_inicial</th>\n",
       "      <th>compras_mes</th>\n",
       "      <th>ventas_mes</th>\n",
       "      <th>mermas_mes</th>\n",
       "      <th>stock_final</th>\n",
       "    </tr>\n",
       "  </thead>\n",
       "  <tbody>\n",
       "    <tr>\n",
       "      <th>count</th>\n",
       "      <td>7.000000</td>\n",
       "      <td>7.000000</td>\n",
       "      <td>7.000000</td>\n",
       "      <td>7.000000</td>\n",
       "      <td>7.000000</td>\n",
       "    </tr>\n",
       "    <tr>\n",
       "      <th>mean</th>\n",
       "      <td>312.571429</td>\n",
       "      <td>156.714286</td>\n",
       "      <td>291.571429</td>\n",
       "      <td>4.857143</td>\n",
       "      <td>172.857143</td>\n",
       "    </tr>\n",
       "    <tr>\n",
       "      <th>std</th>\n",
       "      <td>85.531392</td>\n",
       "      <td>48.158469</td>\n",
       "      <td>62.646780</td>\n",
       "      <td>3.236694</td>\n",
       "      <td>116.045147</td>\n",
       "    </tr>\n",
       "    <tr>\n",
       "      <th>min</th>\n",
       "      <td>203.000000</td>\n",
       "      <td>107.000000</td>\n",
       "      <td>199.000000</td>\n",
       "      <td>0.000000</td>\n",
       "      <td>-60.000000</td>\n",
       "    </tr>\n",
       "    <tr>\n",
       "      <th>25%</th>\n",
       "      <td>249.500000</td>\n",
       "      <td>123.500000</td>\n",
       "      <td>252.000000</td>\n",
       "      <td>3.000000</td>\n",
       "      <td>150.500000</td>\n",
       "    </tr>\n",
       "    <tr>\n",
       "      <th>50%</th>\n",
       "      <td>305.000000</td>\n",
       "      <td>136.000000</td>\n",
       "      <td>299.000000</td>\n",
       "      <td>6.000000</td>\n",
       "      <td>194.000000</td>\n",
       "    </tr>\n",
       "    <tr>\n",
       "      <th>75%</th>\n",
       "      <td>388.500000</td>\n",
       "      <td>182.500000</td>\n",
       "      <td>328.000000</td>\n",
       "      <td>6.500000</td>\n",
       "      <td>239.000000</td>\n",
       "    </tr>\n",
       "    <tr>\n",
       "      <th>max</th>\n",
       "      <td>404.000000</td>\n",
       "      <td>242.000000</td>\n",
       "      <td>383.000000</td>\n",
       "      <td>9.000000</td>\n",
       "      <td>297.000000</td>\n",
       "    </tr>\n",
       "  </tbody>\n",
       "</table>\n",
       "</div>"
      ],
      "text/plain": [
       "       stock_inicial  compras_mes  ventas_mes  mermas_mes  stock_final\n",
       "count       7.000000     7.000000    7.000000    7.000000     7.000000\n",
       "mean      312.571429   156.714286  291.571429    4.857143   172.857143\n",
       "std        85.531392    48.158469   62.646780    3.236694   116.045147\n",
       "min       203.000000   107.000000  199.000000    0.000000   -60.000000\n",
       "25%       249.500000   123.500000  252.000000    3.000000   150.500000\n",
       "50%       305.000000   136.000000  299.000000    6.000000   194.000000\n",
       "75%       388.500000   182.500000  328.000000    6.500000   239.000000\n",
       "max       404.000000   242.000000  383.000000    9.000000   297.000000"
      ]
     },
     "execution_count": 18,
     "metadata": {},
     "output_type": "execute_result"
    }
   ],
   "source": [
    "ruta_stock_csv = r'C:\\Users\\Fernando\\Desktop\\Ventas Café Especialidad\\Data\\stock.csv'\n",
    "\n",
    "df_stock = pd.read_csv(ruta_stock_csv)\n",
    "\n",
    "# Vemos la información\n",
    "print(\"Informe: \\n\")\n",
    "df_stock.info()\n",
    "\n",
    "print(\"\\n\")\n",
    "\n",
    "print(\"Cantidad de filas y columnas: \", df_stock.shape)\n",
    "\n",
    "print(\"\\n\")\n",
    "\n",
    "## Mostramos la tabla (los primeros 100)\n",
    "df_stock.head(3000)\n",
    "\n",
    "print(\"\\n\")\n",
    "\n",
    "## Estadisticas\n",
    "df_stock.describe()"
   ]
  },
  {
   "cell_type": "markdown",
   "id": "bb8a23f8",
   "metadata": {},
   "source": [
    "Graficos y metricas\n"
   ]
  },
  {
   "cell_type": "code",
   "execution_count": 16,
   "id": "ee8ce7d5",
   "metadata": {},
   "outputs": [
    {
     "name": "stdout",
     "output_type": "stream",
     "text": [
      "📦 Stock total inicial: 2188\n",
      "📦 Stock total final: 1210\n",
      "⚠️ Productos con stock negativo: ['Medialuna']\n",
      "🏆 Producto más vendido: Medialuna\n",
      "🗑️ Producto con más mermas: Medialuna\n"
     ]
    },
    {
     "name": "stderr",
     "output_type": "stream",
     "text": [
      "C:\\Users\\Fernando\\AppData\\Local\\Temp\\ipykernel_4172\\1032634905.py:17: FutureWarning: \n",
      "\n",
      "Passing `palette` without assigning `hue` is deprecated and will be removed in v0.14.0. Assign the `x` variable to `hue` and set `legend=False` for the same effect.\n",
      "\n",
      "  sns.barplot(data=df_stock, x=\"producto\", y=\"ventas_mes\", palette=\"viridis\")\n"
     ]
    },
    {
     "data": {
      "image/png": "[encoded data removed]",
      "text/plain": [
       "<Figure size 640x480 with 1 Axes>"
      ]
     },
     "metadata": {},
     "output_type": "display_data"
    },
    {
     "name": "stderr",
     "output_type": "stream",
     "text": [
      "C:\\Users\\Fernando\\AppData\\Local\\Temp\\ipykernel_4172\\1032634905.py:22: FutureWarning: \n",
      "\n",
      "Passing `palette` without assigning `hue` is deprecated and will be removed in v0.14.0. Assign the `x` variable to `hue` and set `legend=False` for the same effect.\n",
      "\n",
      "  sns.barplot(data=df_stock, x=\"producto\", y=\"stock_final\", palette=\"mako\")\n"
     ]
    },
    {
     "data": {
      "image/png": "[encoded data removed]",
      "text/plain": [
       "<Figure size 640x480 with 1 Axes>"
      ]
     },
     "metadata": {},
     "output_type": "display_data"
    }
   ],
   "source": [
    "# =====================\n",
    "# 1️⃣ Medidas - STOCK\n",
    "# =====================\n",
    "stock_total_inicial = df_stock[\"stock_inicial\"].sum()\n",
    "stock_total_final = df_stock[\"stock_final\"].sum()\n",
    "productos_stock_negativo = df_stock[df_stock[\"stock_final\"] < 0][\"producto\"].tolist()\n",
    "producto_mas_vendido = df_stock.loc[df_stock[\"ventas_mes\"].idxmax(), \"producto\"]\n",
    "producto_mas_merma = df_stock.loc[df_stock[\"mermas_mes\"].idxmax(), \"producto\"]\n",
    "\n",
    "print(f\"📦 Stock total inicial: {stock_total_inicial}\")\n",
    "print(f\"📦 Stock total final: {stock_total_final}\")\n",
    "print(f\"⚠️ Productos con stock negativo: {productos_stock_negativo}\")\n",
    "print(f\"🏆 Producto más vendido: {producto_mas_vendido}\")\n",
    "print(f\"🗑️ Producto con más mermas: {producto_mas_merma}\")\n",
    "\n",
    "# === Gráficos STOCK ===\n",
    "sns.barplot(data=df_stock, x=\"producto\", y=\"ventas_mes\", palette=\"viridis\")\n",
    "plt.title(\"Ventas por producto (mes)\")\n",
    "plt.xticks(rotation=45)\n",
    "plt.show()\n",
    "\n",
    "sns.barplot(data=df_stock, x=\"producto\", y=\"stock_final\", palette=\"mako\")\n",
    "plt.title(\"Stock final por producto\")\n",
    "plt.xticks(rotation=45)\n",
    "plt.show()"
   ]
  }
 ],
 "metadata": {
  "kernelspec": {
   "display_name": "Python 3",
   "language": "python",
   "name": "python3"
  },
  "language_info": {
   "codemirror_mode": {
    "name": "ipython",
    "version": 3
   },
   "file_extension": ".py",
   "mimetype": "text/x-python",
   "name": "python",
   "nbconvert_exporter": "python",
   "pygments_lexer": "ipython3",
   "version": "3.13.5"
  }
 },
 "nbformat": 4,
 "nbformat_minor": 5
}
